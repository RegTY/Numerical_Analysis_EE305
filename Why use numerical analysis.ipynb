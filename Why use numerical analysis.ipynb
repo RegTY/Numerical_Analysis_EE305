{
 "cells": [
  {
   "cell_type": "code",
   "execution_count": 159,
   "metadata": {},
   "outputs": [],
   "source": [
    "%matplotlib inline\n",
    "import matplotlib\n",
    "import seaborn as sns\n",
    "import numpy as np\n",
    "import scipy\n",
    "import pandas as pd\n",
    "import matplotlib.pyplot as plt\n",
    "sns.set(style=\"darkgrid\")"
   ]
  },
  {
   "cell_type": "markdown",
   "metadata": {},
   "source": [
    "\n",
    "\n",
    "$$\\textbf{Showcasing the reason Numerical Analysis ( Euler's Method of Differential Equation ) to solve a problem } $$\n",
    "\n",
    "\n",
    "\n",
    "suppose you have a 1st order differential equation   (Differential equation of freefall)  and you are tasked to find the relationship of Velocity , v, over time t given a set of constants (Mass = 68.1, drag coefficient = 12.5 and gravity = 9.81)\n",
    "\n",
    " $$ \\frac{dv}{dt} = g - \\frac{c}{m}v $$\n",
    " \n",
    "\n",
    "One way to do this is to solve the ODE to obtain the function of v(t) over time, which would yield\n",
    "\n",
    "$$ v = \\frac{gm}{c}[1-e^{-\\frac{c}{m}t}] $$\n",
    "\n",
    "With this equation we may then plot it on a graph see output [1] below"
   ]
  },
  {
   "cell_type": "code",
   "execution_count": 160,
   "metadata": {},
   "outputs": [
    {
     "name": "stdout",
     "output_type": "stream",
     "text": [
      "    time, t  velocity, m/s\n",
      "0         0       0.000000\n",
      "1         2      16.421721\n",
      "2         4      27.797627\n",
      "3         6      35.678121\n",
      "4         8      41.137217\n",
      "5        10      44.918926\n",
      "6        12      47.538650\n",
      "7        14      49.353426\n",
      "8        16      50.610585\n",
      "9        18      51.481463\n",
      "10       20      52.084752\n",
      "11       22      52.502671\n",
      "12       24      52.792179\n",
      "13       26      52.992731\n",
      "14       28      53.131660\n",
      "15       30      53.227902\n"
     ]
    },
    {
     "data": {
      "image/png": "[encoded data removed]",
      "text/plain": [
       "<Figure size 432x288 with 1 Axes>"
      ]
     },
     "metadata": {},
     "output_type": "display_data"
    }
   ],
   "source": [
    "t = np.linspace(0,30, 100)\n",
    "\n",
    "g = 9.81\n",
    "c = 12.5\n",
    "m = 68.1\n",
    "\n",
    "\n",
    "\n",
    "\n",
    "# plotting\n",
    "v = ((g*m)/c)*(1 - np.exp(-(c/m)*t))\n",
    "\n",
    "plt.plot(t,v)\n",
    "\n",
    "\n",
    "\n",
    "\n",
    "#making tables\n",
    "\n",
    "\n",
    "def velofunc(t):\n",
    "    return ((g*m)/c)*(1 - np.exp(-(c/m)*t))\n",
    "\n",
    "table = pd.DataFrame({\n",
    "    'time, t':[t for t in range(0,32,2)],\n",
    "    'velocity, m/s': [velofunc(t) for t in range(0,32,2)],\n",
    "    \n",
    "})\n",
    "\n",
    "\n",
    "print(table)\n",
    "plt.show()\n",
    "\n"
   ]
  },
  {
   "cell_type": "markdown",
   "metadata": {},
   "source": [
    "From there we can then observe that as t approaches above 28 seconds, the velocity will approach a max of 53 m/s\n",
    "\n",
    "We thereby figured out the answer analytically using mathematical approach of manually solving the ODE and plotting it. Suppose you have an ODE that is hard to solve, how would one approach it. We hereby can use a numerical approach to this, by using numbers and algebra to find an approximate solution. \n",
    "\n",
    "This method is called Euler's Method of solving ODE\n",
    "Using the same example as shown previously\n",
    " $$ \\frac{dv}{dt} = g - \\frac{c}{m}v $$\n",
    " \n",
    "From calculus, we know that\n",
    "\n",
    "$$ \\frac{dv}{dt} = \\lim_{\\Delta{t}\\to 0}\\frac{\\Delta{v}}{\\Delta{t}} $$\n",
    "\n",
    "(for a very small change in t)\n",
    "\n",
    "so\n",
    "\n",
    "$$\\frac{\\Delta{v}}{\\Delta{t}} = \\frac{v(t_{i+1}) - v({t_i})}{t_{i+1} - t_{i}} =  g - \\frac{c}{m}v  $$\n",
    "\n",
    "rearranging the equation\n",
    "\n",
    "$$ v(t_{i+1}) = v({t_i}) +  \\left [ g - \\frac{c}{m}v({t_i}) \\right ] (t_{i+1} - t_{i})$$\n",
    "we now have 3 sets of terms created that are \"iterations\" of each other. \n",
    "$$ v({t_i}) $$ \n",
    "the initial velocity\n",
    "$$v(t_{i+1}) $$ \n",
    "the next velocity point after a \"step\"\n",
    "$$(t_{i+1} - t_{i})  $$ \n",
    "\n",
    "the change in time from the previous t, also known as a \"step\"\n",
    "\n",
    "\n",
    "thereby, by knowing the initial values, we can then obtain the next value, and from the next value, we can then obtain the value after that.\n",
    " \n",
    " \n",
    "for example, given the initial value, if t = 0, v(t) = 0 and using the constants provided above (Mass = 68.1, drag coefficient = 12.5 and gravity = 9.81), we can find the value of the velocity at say t = 2\n",
    "\n",
    "$$ v(t_{i+1}) =0 +  \\left [9.81 - \\frac{12.5}{68.1}(0) \\right ] (2 - 0)  = 19.60$$\n",
    "\n",
    "now that we know the value of v(t=2), we can then re use it back in the equation and find the value of v(t=4)\n",
    "\n",
    "$$ v(t_{i+2}) =19.60 +  \\left [9.81 - \\frac{12.5}{68.1}(19.60) \\right ] (4 - 2)  = 32.00$$\n",
    "\n",
    "repeating this several times we can then plot an \"approximate\" graph, see below\n",
    "\n",
    "\n",
    "\n",
    "\n",
    " "
   ]
  },
  {
   "cell_type": "code",
   "execution_count": 161,
   "metadata": {},
   "outputs": [
    {
     "name": "stdout",
     "output_type": "stream",
     "text": [
      "    time, t  velocity, m/s\n",
      "0         0       0.000000\n",
      "1         2      19.620000\n",
      "2         4      32.037357\n",
      "3         6      39.896213\n",
      "4         8      44.870026\n",
      "5        10      48.017917\n",
      "6        12      50.010194\n",
      "7        14      51.271092\n",
      "8        16      52.069105\n",
      "9        18      52.574162\n",
      "10       20      52.893809\n",
      "11       22      53.096111\n",
      "12       24      53.224147\n",
      "13       26      53.305179\n",
      "14       28      53.356465\n",
      "15       30      53.388922\n"
     ]
    },
    {
     "data": {
      "image/png": "[encoded data removed]",
      "text/plain": [
       "<Figure size 432x288 with 1 Axes>"
      ]
     },
     "metadata": {},
     "output_type": "display_data"
    }
   ],
   "source": [
    "\n",
    "step = 2\n",
    "\n",
    "\n",
    "\n",
    "\n",
    "\n",
    "\n",
    "#making tables\n",
    "\n",
    "\n",
    "def velofunc2(v,t1, t2):\n",
    "    return v + (g - (c/m)*v)*(t2-t1)\n",
    "\n",
    "time = [t for t in range(0,32, step)]\n",
    "\n",
    "\n",
    "velocity = []\n",
    "\n",
    "initialv = 0\n",
    "initialt = 0\n",
    "finalt = initialt\n",
    "\n",
    "\n",
    "for t in time:\n",
    "    finalt = t\n",
    "    \n",
    "    nextvelo = velofunc2(initialv, initialt, finalt)\n",
    "    velocity.append(nextvelo)\n",
    "    initialv = nextvelo\n",
    "    initialt = finalt  \n",
    "\n",
    "\n",
    "tableforplot = pd.DataFrame({\n",
    "    'time, t':time,\n",
    "    'velocity, m/s':velocity,\n",
    "    \n",
    "})\n",
    "\n",
    "print(tableforplot)\n",
    "plt.plot(time, velocity)\n",
    "plt.show()\n",
    "\n"
   ]
  },
  {
   "cell_type": "markdown",
   "metadata": {},
   "source": [
    "As we can see from our approximated graph, the graph approaches to 53 m/s at t around 22s, this is close to our actual value which is at t = 28, the accurate can be increased by decreasing the step between the time intervals, a final comparison can be seen below"
   ]
  },
  {
   "cell_type": "code",
   "execution_count": 164,
   "metadata": {},
   "outputs": [
    {
     "name": "stdout",
     "output_type": "stream",
     "text": [
      "    time, t     V, m/s  V (step of 2)  V (step of 1)  V (step of 0.1)\n",
      "0         0   0.000000       0.000000       0.000000         0.000000\n",
      "1         2  16.421721      19.620000      17.819339        15.717186\n",
      "2         4  27.797627      32.037357      29.697439        26.812227\n",
      "3         6  35.678121      39.896213      37.615198        34.644415\n",
      "4         8  41.137217      44.870026      42.893056        40.173296\n",
      "5        10  44.918926      48.017917      46.411195        44.076232\n",
      "6        12  47.538650      50.010194      48.756333        46.831384\n",
      "7        14  49.353426      51.271092      50.319566        48.776295\n",
      "8        16  50.610585      52.069105      51.361594        50.149243\n",
      "9        18  51.481463      52.574162      52.056193        51.118431\n",
      "10       20  52.084752      52.893809      52.519203        51.802598\n",
      "11       22  52.502671      53.096111      52.827838        52.285564\n",
      "12       24  52.792179      53.224147      53.033569        52.626498\n",
      "13       26  52.992731      53.305179      53.170706        52.867170\n",
      "14       28  53.131660      53.356465      53.262120        53.037064\n",
      "15       30  53.227902      53.388922      53.323055        53.156995\n"
     ]
    },
    {
     "data": {
      "image/png": "[encoded data removed]",
      "text/plain": [
       "<Figure size 1080x648 with 1 Axes>"
      ]
     },
     "metadata": {},
     "output_type": "display_data"
    }
   ],
   "source": [
    "\n",
    "\n",
    "t = np.linspace(0,30, 100)\n",
    "\n",
    "g = 9.81\n",
    "c = 12.5\n",
    "m = 68.1\n",
    "\n",
    "\n",
    "fig= plt.figure(figsize=(15,9))\n",
    "\n",
    "\n",
    "\n",
    "# plotting\n",
    "v = ((g*m)/c)*(1 - np.exp(-(c/m)*t))\n",
    "\n",
    "line1,= plt.plot(t,v)\n",
    "\n",
    "#making tables\n",
    "\n",
    "time = [t for t in range(0,32, 2)]\n",
    "\n",
    "\n",
    "# different time step\n",
    "time1 = [t for t in range(0,32, 1)]\n",
    "time2 = np.linspace(0,30, 320)\n",
    "\n",
    "\n",
    "# different velocities\n",
    "velocity1 = []\n",
    "velocity2 = []\n",
    "\n",
    "initialv = 0\n",
    "initialt = 0\n",
    "finalt = initialt\n",
    "\n",
    "        \n",
    "for t in time1:\n",
    "    finalt = t\n",
    "\n",
    "    nextvelo = velofunc2(initialv, initialt, finalt)\n",
    "    velocity1.append(nextvelo)\n",
    "    initialv = nextvelo\n",
    "    initialt = finalt  \n",
    "        \n",
    "initialv = 0\n",
    "initialt = 0\n",
    "finalt = initialt    \n",
    "\n",
    "for t in time2:\n",
    "    finalt = t\n",
    "\n",
    "    nextvelo = velofunc2(initialv, initialt, finalt)\n",
    "    velocity2.append(nextvelo)\n",
    "    initialv = nextvelo\n",
    "    initialt = finalt  \n",
    "\n",
    "\n",
    "\n",
    "tableforplot = pd.DataFrame({\n",
    "    'time, t':time,\n",
    "    'V, m/s':[velofunc(t) for t in time],\n",
    "    'V (step of 2)': velocity,\n",
    "    'V (step of 1)': velocity1[0:32:2],\n",
    "    'V (step of 0.1)': velocity2[0:320:20]\n",
    "    \n",
    "})\n",
    "\n",
    "print(tableforplot)\n",
    "\n",
    "line2, = plt.plot(time1[0:22:2], velocity1[0:22:2])\n",
    "line3, = plt.plot(time2[0:22:2], velocity2[0:22:2])\n",
    "plt.xlabel(\"Time, t\")\n",
    "plt.ylabel(\"Velocity, m/s\")\n",
    "plt.legend(\n",
    "    [line1,line2,line3],\n",
    "    ['True Graph', 'Graph with step of 1', 'Graph with step of 0.1']\n",
    "          )\n",
    "plt.show()\n",
    "\n"
   ]
  },
  {
   "cell_type": "markdown",
   "metadata": {},
   "source": [
    "As seen above, by using Euler's Method of solving ODE, provided that your step function is very low, you are able to replicate a graph similar to that of the actual function, this serves to showcase the power of using Numerical Analysis in solving certain mathematical issues"
   ]
  },
  {
   "cell_type": "code",
   "execution_count": null,
   "metadata": {},
   "outputs": [],
   "source": []
  },
  {
   "cell_type": "code",
   "execution_count": null,
   "metadata": {},
   "outputs": [],
   "source": []
  }
 ],
 "metadata": {
  "kernelspec": {
   "display_name": "Python 3",
   "language": "python",
   "name": "python3"
  },
  "language_info": {
   "codemirror_mode": {
    "name": "ipython",
    "version": 3
   },
   "file_extension": ".py",
   "mimetype": "text/x-python",
   "name": "python",
   "nbconvert_exporter": "python",
   "pygments_lexer": "ipython3",
   "version": "3.7.4"
  }
 },
 "nbformat": 4,
 "nbformat_minor": 2
}
