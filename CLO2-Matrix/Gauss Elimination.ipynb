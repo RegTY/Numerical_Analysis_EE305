{
 "cells": [
  {
   "cell_type": "code",
   "execution_count": 5,
   "metadata": {},
   "outputs": [],
   "source": [
    "import numpy as np\n",
    "import scipy \n",
    "import pprint\n",
    "from scipy import linalg\n",
    "from sympy import *\n",
    "import Matrix as CLO2\n"
   ]
  },
  {
   "cell_type": "code",
   "execution_count": 6,
   "metadata": {},
   "outputs": [
    {
     "name": "stdout",
     "output_type": "stream",
     "text": [
      "Gauss Jordan Elimination\n",
      "U DECOMPOSITION\n",
      "~~~~~~~~~~~~~~~~~~~~~~~~~~~~~~~~~~~~~~~~~~~~~~~~~~~~~~~~~~\n",
      "Step 1: -Row1 * 0.125 + Row2\n",
      "Step 2: -Row1 * 0.125 + Row3 yielding: \n",
      "\n",
      "[[8 1 1 5]\n",
      " [0.0 7.87500000000000 0.875000000000000 4.37500000000000]\n",
      " [0.0 0.875000000000000 7.87500000000000 4.37500000000000]] \n",
      "\n",
      "Step3: -Row2 * 0.111111111111111 + Row 3 \n",
      "\n",
      "[[8 1 1 5]\n",
      " [0.0 7.87500000000000 0.875000000000000 4.37500000000000]\n",
      " [0 0 7.77777777777778 3.88888888888889]]\n",
      "~~~~~~~~~~~~~~~~~~~~~~~~~~~~~~~~~~~~~~~~~~~~~~~~~~~~~~~~~~\n",
      "\n",
      "And the roots are:\n"
     ]
    },
    {
     "data": {
      "text/latex": [
       "$\\displaystyle \\left\\{\\left( \\frac{1}{2}, \\  \\frac{1}{2}, \\  \\frac{1}{2}\\right)\\right\\}$"
      ],
      "text/plain": [
       "FiniteSet((1/2, 1/2, 1/2))"
      ]
     },
     "execution_count": 6,
     "metadata": {},
     "output_type": "execute_result"
    }
   ],
   "source": [
    "coeffequation1 = [8,1,1,5]\n",
    "coeffequation2 = [1,8,1,5]\n",
    "coeffequation3 = [1,1,8,5]\n",
    "\n",
    "test = CLO2.matrix(coeffequation1,coeffequation2,coeffequation3)\n",
    "test.gaussjordan()"
   ]
  },
  {
   "cell_type": "code",
   "execution_count": 3,
   "metadata": {},
   "outputs": [
    {
     "data": {
      "text/latex": [
       "$\\displaystyle \\left[\\begin{matrix}7.0 & 17.5 & 50.75\\\\17.5 & 50.75 & 161.875\\\\50.75 & 161.875 & 548.1875\\end{matrix}\\right]$"
      ],
      "text/plain": [
       "Matrix([\n",
       "[  7.0,    17.5,    50.75],\n",
       "[ 17.5,   50.75,  161.875],\n",
       "[50.75, 161.875, 548.1875]])"
      ]
     },
     "execution_count": 3,
     "metadata": {},
     "output_type": "execute_result"
    }
   ],
   "source": [
    "test.matrixA"
   ]
  },
  {
   "cell_type": "code",
   "execution_count": 4,
   "metadata": {},
   "outputs": [
    {
     "data": {
      "text/latex": [
       "$\\displaystyle \\left[\\begin{matrix}7.0 & 17.5 & 50.75 & 1.1417\\\\0.0 & 7.0 & 35.0 & -0.76635\\\\0.0 & 35.0 & 180.25 & -3.664125\\end{matrix}\\right]$"
      ],
      "text/plain": [
       "Matrix([\n",
       "[7.0, 17.5,  50.75,    1.1417],\n",
       "[0.0,  7.0,   35.0,  -0.76635],\n",
       "[0.0, 35.0, 180.25, -3.664125]])"
      ]
     },
     "execution_count": 4,
     "metadata": {},
     "output_type": "execute_result"
    }
   ],
   "source": [
    "test.step1"
   ]
  },
  {
   "cell_type": "code",
   "execution_count": 5,
   "metadata": {},
   "outputs": [
    {
     "data": {
      "text/latex": [
       "$\\displaystyle \\left[\\begin{matrix}7.0 & 17.5 & 50.75 & 1.1417\\\\0.0 & 7.0 & 35.0 & -0.76635\\\\0 & 0 & 5.25 & 0.167625000000001\\end{matrix}\\right]$"
      ],
      "text/plain": [
       "Matrix([\n",
       "[7.0, 17.5, 50.75,            1.1417],\n",
       "[0.0,  7.0,  35.0,          -0.76635],\n",
       "[  0,    0,  5.25, 0.167625000000001]])"
      ]
     },
     "execution_count": 5,
     "metadata": {},
     "output_type": "execute_result"
    }
   ],
   "source": [
    "\n",
    "test.step2"
   ]
  },
  {
   "cell_type": "code",
   "execution_count": 6,
   "metadata": {},
   "outputs": [
    {
     "name": "stdout",
     "output_type": "stream",
     "text": [
      "Gauss Jordan Elimination\n",
      "U DECOMPOSITION\n",
      "~~~~~~~~~~~~~~~~~~~~~~~~~~~~~~~~~~~~~~~~~~~~~~~~~~~~~~~~~~\n",
      "Step 1: -Row1 * 2.5 + Row2\n",
      "Step 2: -Row1 * 7.25 + Row3 yielding: \n",
      "\n",
      "[[7.00000000000000 17.5000000000000 50.7500000000000 1.14170000000000]\n",
      " [0.0 7.00000000000000 35.0000000000000 -0.766350000000000]\n",
      " [0.0 35.0000000000000 180.250000000000 -3.66412500000000]] \n",
      "\n",
      "Step3: -Row2 * 5.00000000000000 + Row 3 \n",
      "\n",
      "[[7.00000000000000 17.5000000000000 50.7500000000000 1.14170000000000]\n",
      " [0.0 7.00000000000000 35.0000000000000 -0.766350000000000]\n",
      " [0 0 5.25000000000000 0.167625000000001]]\n",
      "~~~~~~~~~~~~~~~~~~~~~~~~~~~~~~~~~~~~~~~~~~~~~~~~~~~~~~~~~~\n",
      "\n",
      "And the roots are:\n"
     ]
    },
    {
     "data": {
      "text/latex": [
       "$\\displaystyle \\left\\{\\left( 0.604421428571428, \\  -0.269121428571429, \\  0.0319285714285714\\right)\\right\\}$"
      ],
      "text/plain": [
       "FiniteSet((0.604421428571428, -0.269121428571429, 0.0319285714285714))"
      ]
     },
     "execution_count": 6,
     "metadata": {},
     "output_type": "execute_result"
    }
   ],
   "source": [
    "test.gaussjordan()"
   ]
  },
  {
   "cell_type": "code",
   "execution_count": null,
   "metadata": {},
   "outputs": [],
   "source": []
  },
  {
   "cell_type": "code",
   "execution_count": null,
   "metadata": {},
   "outputs": [],
   "source": []
  },
  {
   "cell_type": "code",
   "execution_count": null,
   "metadata": {},
   "outputs": [],
   "source": []
  },
  {
   "cell_type": "code",
   "execution_count": null,
   "metadata": {},
   "outputs": [],
   "source": []
  }
 ],
 "metadata": {
  "kernelspec": {
   "display_name": "Python 3",
   "language": "python",
   "name": "python3"
  },
  "language_info": {
   "codemirror_mode": {
    "name": "ipython",
    "version": 3
   },
   "file_extension": ".py",
   "mimetype": "text/x-python",
   "name": "python",
   "nbconvert_exporter": "python",
   "pygments_lexer": "ipython3",
   "version": "3.8.3"
  }
 },
 "nbformat": 4,
 "nbformat_minor": 2
}
