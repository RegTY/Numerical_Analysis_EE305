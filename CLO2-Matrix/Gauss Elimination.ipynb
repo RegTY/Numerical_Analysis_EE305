{
 "cells": [
  {
   "cell_type": "code",
   "execution_count": 1,
   "metadata": {},
   "outputs": [],
   "source": [
    "import numpy as np\n",
    "import scipy \n",
    "import pprint\n",
    "from scipy import linalg\n",
    "from sympy import *\n",
    "import Matrix as CLO2\n"
   ]
  },
  {
   "cell_type": "code",
   "execution_count": 2,
   "metadata": {},
   "outputs": [
    {
     "name": "stdout",
     "output_type": "stream",
     "text": [
      "Gauss Jordan Elimination\n",
      "Step 1: Row1 * [2/5] - Row2\n",
      "Step 2: Row1 * [39/5] - Row2 yielding: \n",
      "\n",
      "[[5 5 2 12]\n",
      " [0 2 21/5 -14/5]\n",
      " [0 4 147/5 -98/5]] \n",
      "\n",
      "Step3: Row2 * [2] - Row 3 \n",
      "\n",
      "[[5 5 2 12]\n",
      " [0 2 21/5 -14/5]\n",
      " [0 0 21 -14]]\n",
      "\n",
      "And the roots are:\n"
     ]
    },
    {
     "data": {
      "text/latex": [
       "$\\displaystyle \\left\\{\\left( \\frac{8}{3}, \\  0, \\  - \\frac{2}{3}\\right)\\right\\}$"
      ],
      "text/plain": [
       "{(8/3, 0, -2/3)}"
      ]
     },
     "execution_count": 2,
     "metadata": {},
     "output_type": "execute_result"
    }
   ],
   "source": [
    "coeffequation1 = [2,1,1]\n",
    "coeffequation2 = [2, 4, 5, 2 ]\n",
    "coeffequation3 = [39, 43, 45, 74]\n",
    "\n",
    "\n",
    "test = CLO2.matrix(coeffequation1,coeffequation2,coeffequation3)\n",
    "test.gaussjordan()"
   ]
  },
  {
   "cell_type": "code",
   "execution_count": 3,
   "metadata": {},
   "outputs": [
    {
     "data": {
      "text/latex": [
       "$\\displaystyle \\left[\\begin{matrix}5 & 5 & 2\\\\2 & 4 & 5\\\\39 & 43 & 45\\end{matrix}\\right]$"
      ],
      "text/plain": [
       "Matrix([\n",
       "[ 5,  5,  2],\n",
       "[ 2,  4,  5],\n",
       "[39, 43, 45]])"
      ]
     },
     "execution_count": 3,
     "metadata": {},
     "output_type": "execute_result"
    }
   ],
   "source": [
    "test.matrixA"
   ]
  },
  {
   "cell_type": "code",
   "execution_count": 4,
   "metadata": {},
   "outputs": [
    {
     "data": {
      "text/latex": [
       "$\\displaystyle \\left[\\begin{matrix}5 & 5 & 2 & 12\\\\0 & 2 & \\frac{21}{5} & - \\frac{14}{5}\\\\0 & 4 & \\frac{147}{5} & - \\frac{98}{5}\\end{matrix}\\right]$"
      ],
      "text/plain": [
       "Matrix([\n",
       "[5, 5,     2,    12],\n",
       "[0, 2,  21/5, -14/5],\n",
       "[0, 4, 147/5, -98/5]])"
      ]
     },
     "execution_count": 4,
     "metadata": {},
     "output_type": "execute_result"
    }
   ],
   "source": [
    "test.step1"
   ]
  },
  {
   "cell_type": "code",
   "execution_count": 5,
   "metadata": {},
   "outputs": [
    {
     "data": {
      "text/latex": [
       "$\\displaystyle \\left[\\begin{matrix}5 & 5 & 2 & 12\\\\0 & 2 & \\frac{21}{5} & - \\frac{14}{5}\\\\0 & 0 & 21 & -14\\end{matrix}\\right]$"
      ],
      "text/plain": [
       "Matrix([\n",
       "[5, 5,    2,    12],\n",
       "[0, 2, 21/5, -14/5],\n",
       "[0, 0,   21,   -14]])"
      ]
     },
     "execution_count": 5,
     "metadata": {},
     "output_type": "execute_result"
    }
   ],
   "source": [
    "test.step2"
   ]
  },
  {
   "cell_type": "code",
   "execution_count": 6,
   "metadata": {},
   "outputs": [
    {
     "name": "stdout",
     "output_type": "stream",
     "text": [
      "Gauss Jordan Elimination\n",
      "Step 1: Row1 * [2/5] - Row2\n",
      "Step 2: Row1 * [39/5] - Row2 yielding: \n",
      "\n",
      "[[5 5 2 12]\n",
      " [0 2 21/5 -14/5]\n",
      " [0 4 147/5 -98/5]] \n",
      "\n",
      "Step3: Row2 * [2] - Row 3 \n",
      "\n",
      "[[5 5 2 12]\n",
      " [0 2 21/5 -14/5]\n",
      " [0 0 21 -14]]\n",
      "\n",
      "And the roots are:\n"
     ]
    },
    {
     "data": {
      "text/latex": [
       "$\\displaystyle \\left\\{\\left( \\frac{8}{3}, \\  0, \\  - \\frac{2}{3}\\right)\\right\\}$"
      ],
      "text/plain": [
       "{(8/3, 0, -2/3)}"
      ]
     },
     "execution_count": 6,
     "metadata": {},
     "output_type": "execute_result"
    }
   ],
   "source": [
    "test.gaussjordan()"
   ]
  },
  {
   "cell_type": "code",
   "execution_count": null,
   "metadata": {},
   "outputs": [],
   "source": []
  },
  {
   "cell_type": "code",
   "execution_count": null,
   "metadata": {},
   "outputs": [],
   "source": []
  },
  {
   "cell_type": "code",
   "execution_count": null,
   "metadata": {},
   "outputs": [],
   "source": []
  }
 ],
 "metadata": {
  "kernelspec": {
   "display_name": "Python 3",
   "language": "python",
   "name": "python3"
  },
  "language_info": {
   "codemirror_mode": {
    "name": "ipython",
    "version": 3
   },
   "file_extension": ".py",
   "mimetype": "text/x-python",
   "name": "python",
   "nbconvert_exporter": "python",
   "pygments_lexer": "ipython3",
   "version": "3.7.4"
  }
 },
 "nbformat": 4,
 "nbformat_minor": 2
}
