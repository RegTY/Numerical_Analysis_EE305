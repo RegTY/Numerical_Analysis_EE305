{
 "cells": [
  {
   "cell_type": "code",
   "execution_count": 1,
   "metadata": {},
   "outputs": [],
   "source": [
    "import numpy as np\n",
    "import scipy \n",
    "import pprint\n",
    "from scipy import linalg\n",
    "from sympy import *\n",
    "import Matrix as CLO2\n"
   ]
  },
  {
   "cell_type": "code",
   "execution_count": 2,
   "metadata": {},
   "outputs": [
    {
     "name": "stdout",
     "output_type": "stream",
     "text": [
      "Gauss Jordan Elimination\n",
      "U DECOMPOSITION\n",
      "~~~~~~~~~~~~~~~~~~~~~~~~~~~~~~~~~~~~~~~~~~~~~~~~~~~~~~~~~~\n",
      "Step 1: -Row1 * 0.03333333333333333 + Row2\n",
      "Step 2: -Row1 * 0.09999999999999999 + Row2 yielding: \n",
      "\n",
      "[[3.00000000000000 -0.100000000000000 -0.200000000000000 7.85000000000000]\n",
      " [0.0 7.00333333333333 -0.293333333333333 -19.5616666666667]\n",
      " [0.0 -0.190000000000000 10.0200000000000 70.6150000000000]] \n",
      "\n",
      "Step3: -Row2 * -0.0271299381247025 + Row 3 \n",
      "\n",
      "[[3.00000000000000 -0.100000000000000 -0.200000000000000 7.85000000000000]\n",
      " [0.0 7.00333333333333 -0.293333333333333 -19.5616666666667]\n",
      " [0 0 10.0120418848168 70.0842931937173]]\n",
      "~~~~~~~~~~~~~~~~~~~~~~~~~~~~~~~~~~~~~~~~~~~~~~~~~~~~~~~~~~\n",
      "\n",
      "And the roots are:\n"
     ]
    },
    {
     "data": {
      "text/latex": [
       "$\\displaystyle \\left\\{\\left( 3.0, \\  -2.5, \\  7.0\\right)\\right\\}$"
      ],
      "text/plain": [
       "FiniteSet((3.0, -2.5, 7.0))"
      ]
     },
     "execution_count": 2,
     "metadata": {},
     "output_type": "execute_result"
    }
   ],
   "source": [
    "coeffequation1 = [ 3, -0.1, -0.2, 7.85]\n",
    "coeffequation2 = [ 0.1,  7,  -0.3, -19.3]\n",
    "coeffequation3 = [ 0.3,  -0.2,  10, 71.4]\n",
    "\n",
    "test = CLO2.matrix(coeffequation1,coeffequation2,coeffequation3)\n",
    "test.gaussjordan()"
   ]
  },
  {
   "cell_type": "code",
   "execution_count": 3,
   "metadata": {},
   "outputs": [
    {
     "data": {
      "text/latex": [
       "$\\displaystyle \\left[\\begin{matrix}3.0 & -0.1 & -0.2\\\\0.1 & 7.0 & -0.3\\\\0.3 & -0.2 & 10.0\\end{matrix}\\right]$"
      ],
      "text/plain": [
       "Matrix([\n",
       "[3.0, -0.1, -0.2],\n",
       "[0.1,  7.0, -0.3],\n",
       "[0.3, -0.2, 10.0]])"
      ]
     },
     "execution_count": 3,
     "metadata": {},
     "output_type": "execute_result"
    }
   ],
   "source": [
    "test.matrixA"
   ]
  },
  {
   "cell_type": "code",
   "execution_count": 4,
   "metadata": {},
   "outputs": [
    {
     "data": {
      "text/latex": [
       "$\\displaystyle \\left[\\begin{matrix}3.0 & -0.1 & -0.2 & 7.85\\\\0.0 & 7.00333333333333 & -0.293333333333333 & -19.5616666666667\\\\0.0 & -0.19 & 10.02 & 70.615\\end{matrix}\\right]$"
      ],
      "text/plain": [
       "Matrix([\n",
       "[3.0,             -0.1,               -0.2,              7.85],\n",
       "[0.0, 7.00333333333333, -0.293333333333333, -19.5616666666667],\n",
       "[0.0,            -0.19,              10.02,            70.615]])"
      ]
     },
     "execution_count": 4,
     "metadata": {},
     "output_type": "execute_result"
    }
   ],
   "source": [
    "test.step1"
   ]
  },
  {
   "cell_type": "code",
   "execution_count": 5,
   "metadata": {},
   "outputs": [
    {
     "data": {
      "text/latex": [
       "$\\displaystyle \\left[\\begin{matrix}3.0 & -0.1 & -0.2 & 7.85\\\\0.0 & 7.00333333333333 & -0.293333333333333 & -19.5616666666667\\\\0 & 0 & 10.0120418848168 & 70.0842931937173\\end{matrix}\\right]$"
      ],
      "text/plain": [
       "Matrix([\n",
       "[3.0,             -0.1,               -0.2,              7.85],\n",
       "[0.0, 7.00333333333333, -0.293333333333333, -19.5616666666667],\n",
       "[  0,                0,   10.0120418848168,  70.0842931937173]])"
      ]
     },
     "execution_count": 5,
     "metadata": {},
     "output_type": "execute_result"
    }
   ],
   "source": [
    "\n",
    "test.step2"
   ]
  },
  {
   "cell_type": "code",
   "execution_count": 6,
   "metadata": {},
   "outputs": [
    {
     "name": "stdout",
     "output_type": "stream",
     "text": [
      "Gauss Jordan Elimination\n",
      "U DECOMPOSITION\n",
      "~~~~~~~~~~~~~~~~~~~~~~~~~~~~~~~~~~~~~~~~~~~~~~~~~~~~~~~~~~\n",
      "Step 1: -Row1 * 0.03333333333333333 + Row2\n",
      "Step 2: -Row1 * 0.09999999999999999 + Row2 yielding: \n",
      "\n",
      "[[3.00000000000000 -0.100000000000000 -0.200000000000000 7.85000000000000]\n",
      " [0.0 7.00333333333333 -0.293333333333333 -19.5616666666667]\n",
      " [0.0 -0.190000000000000 10.0200000000000 70.6150000000000]] \n",
      "\n",
      "Step3: -Row2 * -0.0271299381247025 + Row 3 \n",
      "\n",
      "[[3.00000000000000 -0.100000000000000 -0.200000000000000 7.85000000000000]\n",
      " [0.0 7.00333333333333 -0.293333333333333 -19.5616666666667]\n",
      " [0 0 10.0120418848168 70.0842931937173]]\n",
      "~~~~~~~~~~~~~~~~~~~~~~~~~~~~~~~~~~~~~~~~~~~~~~~~~~~~~~~~~~\n",
      "\n",
      "And the roots are:\n"
     ]
    },
    {
     "data": {
      "text/latex": [
       "$\\displaystyle \\left\\{\\left( 3.0, \\  -2.5, \\  7.0\\right)\\right\\}$"
      ],
      "text/plain": [
       "FiniteSet((3.0, -2.5, 7.0))"
      ]
     },
     "execution_count": 6,
     "metadata": {},
     "output_type": "execute_result"
    }
   ],
   "source": [
    "test.gaussjordan()"
   ]
  },
  {
   "cell_type": "code",
   "execution_count": null,
   "metadata": {},
   "outputs": [],
   "source": []
  },
  {
   "cell_type": "code",
   "execution_count": null,
   "metadata": {},
   "outputs": [],
   "source": []
  },
  {
   "cell_type": "code",
   "execution_count": null,
   "metadata": {},
   "outputs": [],
   "source": []
  }
 ],
 "metadata": {
  "kernelspec": {
   "display_name": "Python 3",
   "language": "python",
   "name": "python3"
  },
  "language_info": {
   "codemirror_mode": {
    "name": "ipython",
    "version": 3
   },
   "file_extension": ".py",
   "mimetype": "text/x-python",
   "name": "python",
   "nbconvert_exporter": "python",
   "pygments_lexer": "ipython3",
   "version": "3.8.3"
  }
 },
 "nbformat": 4,
 "nbformat_minor": 2
}
