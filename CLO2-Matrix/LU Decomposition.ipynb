{
 "cells": [
  {
   "cell_type": "code",
   "execution_count": 8,
   "metadata": {},
   "outputs": [],
   "source": [
    "import numpy as np\n",
    "import scipy \n",
    "import pprint\n",
    "from scipy import linalg\n",
    "from sympy import *\n",
    "import Matrix as CLO2\n",
    "\n"
   ]
  },
  {
   "cell_type": "code",
   "execution_count": 9,
   "metadata": {},
   "outputs": [
    {
     "name": "stdout",
     "output_type": "stream",
     "text": [
      "[[2 1 1]\n",
      " [1 -1 -1]\n",
      " [1 2 1]]\n"
     ]
    }
   ],
   "source": [
    "coeffequation1 = [2,1,1, 3]\n",
    "coeffequation2 = [1,-1,-1,24 ]\n",
    "coeffequation3 = [1,2,1, 123]\n",
    "\n",
    "np.set_printoptions(precision=3)\n",
    "\n",
    "test = CLO2.matrix(coeffequation1,coeffequation2,coeffequation3)\n",
    "print(test.matrixa)\n"
   ]
  },
  {
   "cell_type": "markdown",
   "metadata": {},
   "source": [
    "Using Matrix Decomposition to calculate Roots"
   ]
  },
  {
   "cell_type": "code",
   "execution_count": 3,
   "metadata": {},
   "outputs": [
    {
     "ename": "TypeError",
     "evalue": "'Integer' object is not subscriptable",
     "output_type": "error",
     "traceback": [
      "\u001b[1;31m---------------------------------------------------------------------------\u001b[0m",
      "\u001b[1;31mTypeError\u001b[0m                                 Traceback (most recent call last)",
      "\u001b[1;32m<ipython-input-3-7e9034d160b9>\u001b[0m in \u001b[0;36m<module>\u001b[1;34m\u001b[0m\n\u001b[1;32m----> 1\u001b[1;33m \u001b[0mmatrixa1\u001b[0m \u001b[1;33m=\u001b[0m \u001b[0mtest\u001b[0m\u001b[1;33m.\u001b[0m\u001b[0mmatrixa\u001b[0m\u001b[1;33m[\u001b[0m\u001b[1;36m1\u001b[0m\u001b[1;33m]\u001b[0m \u001b[1;33m-\u001b[0m \u001b[0mtest\u001b[0m\u001b[1;33m.\u001b[0m\u001b[0mmatrixa\u001b[0m\u001b[1;33m[\u001b[0m\u001b[1;36m1\u001b[0m\u001b[1;33m]\u001b[0m\u001b[1;33m[\u001b[0m\u001b[1;36m0\u001b[0m\u001b[1;33m]\u001b[0m\u001b[1;33m/\u001b[0m\u001b[0mtest\u001b[0m\u001b[1;33m.\u001b[0m\u001b[0mmatrixa\u001b[0m\u001b[1;33m[\u001b[0m\u001b[1;36m0\u001b[0m\u001b[1;33m]\u001b[0m\u001b[1;33m[\u001b[0m\u001b[1;36m0\u001b[0m\u001b[1;33m]\u001b[0m\u001b[1;33m*\u001b[0m\u001b[0mtest\u001b[0m\u001b[1;33m.\u001b[0m\u001b[0mmatrixa\u001b[0m\u001b[1;33m[\u001b[0m\u001b[1;36m0\u001b[0m\u001b[1;33m]\u001b[0m\u001b[1;33m\u001b[0m\u001b[1;33m\u001b[0m\u001b[0m\n\u001b[0m\u001b[0;32m      2\u001b[0m \u001b[0mmatrixa1\u001b[0m\u001b[1;33m\u001b[0m\u001b[1;33m\u001b[0m\u001b[0m\n",
      "\u001b[1;31mTypeError\u001b[0m: 'Integer' object is not subscriptable"
     ]
    }
   ],
   "source": []
  },
  {
   "cell_type": "code",
   "execution_count": 10,
   "metadata": {},
   "outputs": [
    {
     "name": "stdout",
     "output_type": "stream",
     "text": [
      "U DECOMPOSITION\n",
      "~~~~~~~~~~~~~~~~~~~~~~~~~~~~~~~~~~~~~~~~~~~~~~~~~~~~~~~~~~\n",
      "Step 1: -Row1 * 1/2 + Row2\n",
      "Step 2: -Row1 * 1/2 + Row2 yielding: \n",
      "\n",
      "[[2 1 1]\n",
      " [0 -3/2 -3/2]\n",
      " [0 3/2 1/2]] \n",
      "\n",
      "Step3: -Row2 * -1 + Row 3 \n",
      "\n",
      "[[2 1 1]\n",
      " [0 -3/2 -3/2]\n",
      " [0 0 -1]]\n",
      "~~~~~~~~~~~~~~~~~~~~~~~~~~~~~~~~~~~~~~~~~~~~~~~~~~~~~~~~~~\n"
     ]
    },
    {
     "data": {
      "text/latex": [
       "$\\displaystyle \\left[\\begin{matrix}2 & 1 & 1\\\\0 & - \\frac{3}{2} & - \\frac{3}{2}\\\\0 & 0 & -1\\end{matrix}\\right]$"
      ],
      "text/plain": [
       "Matrix([\n",
       "[2,    1,    1],\n",
       "[0, -3/2, -3/2],\n",
       "[0,    0,   -1]])"
      ]
     },
     "execution_count": 10,
     "metadata": {},
     "output_type": "execute_result"
    }
   ],
   "source": [
    "matrixu, l1,l2,l3 = test.uDecompost(test.matrixa)\n",
    "matrixu"
   ]
  },
  {
   "cell_type": "code",
   "execution_count": 11,
   "metadata": {},
   "outputs": [
    {
     "data": {
      "text/latex": [
       "$\\displaystyle \\left[\\begin{matrix}1.0 & 0.0 & 0.0\\\\0.5 & 1.0 & 0.0\\\\0.5 & -1.0 & 1.0\\end{matrix}\\right]$"
      ],
      "text/plain": [
       "Matrix([\n",
       "[1.0,  0.0, 0.0],\n",
       "[0.5,  1.0, 0.0],\n",
       "[0.5, -1.0, 1.0]])"
      ]
     },
     "execution_count": 11,
     "metadata": {},
     "output_type": "execute_result"
    }
   ],
   "source": [
    "matrixl = test.lDecompost(l1,l2,l3)\n",
    "matrixl"
   ]
  },
  {
   "cell_type": "code",
   "execution_count": 12,
   "metadata": {},
   "outputs": [
    {
     "data": {
      "text/latex": [
       "$\\displaystyle \\left[\\begin{matrix}3.0\\\\22.5\\\\144.0\\end{matrix}\\right]$"
      ],
      "text/plain": [
       "Matrix([\n",
       "[  3.0],\n",
       "[ 22.5],\n",
       "[144.0]])"
      ]
     },
     "execution_count": 12,
     "metadata": {},
     "output_type": "execute_result"
    }
   ],
   "source": [
    "matrixd = linalg.solve(np.array(matrixl.tolist()).astype(np.float64), test.matrixb)\n",
    "matrixD = Matrix(matrixd)\n",
    "matrixD"
   ]
  },
  {
   "cell_type": "code",
   "execution_count": 13,
   "metadata": {},
   "outputs": [
    {
     "data": {
      "text/latex": [
       "$\\displaystyle \\left[\\begin{matrix}9.0\\\\129.0\\\\-144.0\\end{matrix}\\right]$"
      ],
      "text/plain": [
       "Matrix([\n",
       "[   9.0],\n",
       "[ 129.0],\n",
       "[-144.0]])"
      ]
     },
     "execution_count": 13,
     "metadata": {},
     "output_type": "execute_result"
    }
   ],
   "source": [
    "ans= linalg.solve(np.array(matrixu.tolist()).astype(np.float64), matrixd)\n",
    "Matrix(ans)"
   ]
  },
  {
   "cell_type": "code",
   "execution_count": 14,
   "metadata": {},
   "outputs": [
    {
     "data": {
      "text/latex": [
       "$\\displaystyle \\left\\{\\left( 9, \\  129, \\  -144\\right)\\right\\}$"
      ],
      "text/plain": [
       "FiniteSet((9, 129, -144))"
      ]
     },
     "execution_count": 14,
     "metadata": {},
     "output_type": "execute_result"
    }
   ],
   "source": [
    "x1,x2 ,x3 = symbols('x1, x2, x3')\n",
    "linsolve(Matrix(test.matrixdata), (x1,x2,x3))"
   ]
  },
  {
   "cell_type": "markdown",
   "metadata": {},
   "source": [
    "$ \\textbf{Using LU Decomposition to determine Inverse} $\n",
    "\n",
    "using the principle of LU Decomposition\n",
    " $$ [A]^{-1} = \\left[\\{x\\}_1 \\{x\\}_2 \\{x\\}_3 \\right]$$\n",
    " \n",
    " where $ \\{x\\}_n $ represents the nth column of $[A]^{-1}$"
   ]
  },
  {
   "cell_type": "code",
   "execution_count": 15,
   "metadata": {},
   "outputs": [
    {
     "data": {
      "text/latex": [
       "$\\displaystyle \\left[\\begin{matrix}2 & 1 & 1\\\\1 & -1 & -1\\\\1 & 2 & 1\\end{matrix}\\right]$"
      ],
      "text/plain": [
       "Matrix([\n",
       "[2,  1,  1],\n",
       "[1, -1, -1],\n",
       "[1,  2,  1]])"
      ]
     },
     "execution_count": 15,
     "metadata": {},
     "output_type": "execute_result"
    }
   ],
   "source": [
    "test.matrixA"
   ]
  },
  {
   "cell_type": "code",
   "execution_count": 18,
   "metadata": {},
   "outputs": [
    {
     "name": "stdout",
     "output_type": "stream",
     "text": [
      "U DECOMPOSITION\n",
      "~~~~~~~~~~~~~~~~~~~~~~~~~~~~~~~~~~~~~~~~~~~~~~~~~~~~~~~~~~\n",
      "Step 1: -Row1 * 1/2 + Row2\n",
      "Step 2: -Row1 * 1/2 + Row2 yielding: \n",
      "\n",
      "[[2 1 1]\n",
      " [0 -3/2 -3/2]\n",
      " [0 3/2 1/2]] \n",
      "\n",
      "Step3: -Row2 * -1 + Row 3 \n",
      "\n",
      "[[2 1 1]\n",
      " [0 -3/2 -3/2]\n",
      " [0 0 -1]]\n",
      "~~~~~~~~~~~~~~~~~~~~~~~~~~~~~~~~~~~~~~~~~~~~~~~~~~~~~~~~~~\n"
     ]
    },
    {
     "data": {
      "text/latex": [
       "$\\displaystyle \\left[\\begin{matrix}2 & 1 & 1\\\\0 & - \\frac{3}{2} & - \\frac{3}{2}\\\\0 & 0 & -1\\end{matrix}\\right]$"
      ],
      "text/plain": [
       "Matrix([\n",
       "[2,    1,    1],\n",
       "[0, -3/2, -3/2],\n",
       "[0,    0,   -1]])"
      ]
     },
     "execution_count": 18,
     "metadata": {},
     "output_type": "execute_result"
    }
   ],
   "source": [
    "matrixu, l1,l2,l3 = test.uDecompost(test.matrixa)\n",
    "matrixu"
   ]
  },
  {
   "cell_type": "code",
   "execution_count": 19,
   "metadata": {},
   "outputs": [
    {
     "data": {
      "text/latex": [
       "$\\displaystyle \\left[\\begin{matrix}1.0 & 0.0 & 0.0\\\\0.5 & 1.0 & 0.0\\\\0.5 & -1.0 & 1.0\\end{matrix}\\right]$"
      ],
      "text/plain": [
       "Matrix([\n",
       "[1.0,  0.0, 0.0],\n",
       "[0.5,  1.0, 0.0],\n",
       "[0.5, -1.0, 1.0]])"
      ]
     },
     "execution_count": 19,
     "metadata": {},
     "output_type": "execute_result"
    }
   ],
   "source": [
    "matrixl = test.lDecompost(l1,l2,l3)\n",
    "matrixl"
   ]
  },
  {
   "cell_type": "markdown",
   "metadata": {},
   "source": [
    "STEP 1: Determining the 1st Column of $[A]^{-1}$\n",
    "using\n",
    "$$ [L]\\{d\\}_1 = \\{b\\}_1$$\n",
    "\n",
    "$$ [U]\\{x\\}_1 = \\{d\\}_1 $$\n",
    "\n",
    "where $ \\{b\\}_n $ is the nth column of the identity matrix and  $ \\{x\\}_n $ is the nth column of the inverse matrix"
   ]
  },
  {
   "cell_type": "code",
   "execution_count": 20,
   "metadata": {},
   "outputs": [
    {
     "data": {
      "text/latex": [
       "$\\displaystyle \\left[\\begin{matrix}1.0 & 0.0 & 0.0\\\\0.0 & 1.0 & 0.0\\\\0.0 & 0.0 & 1.0\\end{matrix}\\right]$"
      ],
      "text/plain": [
       "Matrix([\n",
       "[1.0, 0.0, 0.0],\n",
       "[0.0, 1.0, 0.0],\n",
       "[0.0, 0.0, 1.0]])"
      ]
     },
     "execution_count": 20,
     "metadata": {},
     "output_type": "execute_result"
    }
   ],
   "source": [
    "matrixI = np.identity(3)\n",
    "Matrix(matrixI)\n"
   ]
  },
  {
   "cell_type": "code",
   "execution_count": 21,
   "metadata": {},
   "outputs": [
    {
     "data": {
      "text/latex": [
       "$\\displaystyle \\left[\\begin{matrix}1.0\\\\-0.5\\\\-1.0\\end{matrix}\\right]$"
      ],
      "text/plain": [
       "Matrix([\n",
       "[ 1.0],\n",
       "[-0.5],\n",
       "[-1.0]])"
      ]
     },
     "execution_count": 21,
     "metadata": {},
     "output_type": "execute_result"
    }
   ],
   "source": [
    "#Finding D1\n",
    "matrixd1= linalg.solve(np.array(matrixl.tolist()).astype(np.float64), matrixI[: , 0])\n",
    "Matrix(matrixd1)"
   ]
  },
  {
   "cell_type": "code",
   "execution_count": 22,
   "metadata": {},
   "outputs": [
    {
     "data": {
      "text/latex": [
       "$\\displaystyle \\left[\\begin{matrix}0.333333333333333\\\\-0.666666666666667\\\\1.0\\end{matrix}\\right]$"
      ],
      "text/plain": [
       "Matrix([\n",
       "[ 0.333333333333333],\n",
       "[-0.666666666666667],\n",
       "[               1.0]])"
      ]
     },
     "execution_count": 22,
     "metadata": {},
     "output_type": "execute_result"
    }
   ],
   "source": [
    "# FIrst Column\n",
    "Imatrix1= linalg.solve(np.array(matrixu.tolist()).astype(np.float64), matrixd1)\n",
    "Matrix(Imatrix1)"
   ]
  },
  {
   "cell_type": "markdown",
   "metadata": {},
   "source": [
    "Repeat for the rest of the columns"
   ]
  },
  {
   "cell_type": "code",
   "execution_count": 23,
   "metadata": {},
   "outputs": [
    {
     "data": {
      "text/latex": [
       "$\\displaystyle \\left[\\begin{matrix}0.0\\\\1.0\\\\1.0\\end{matrix}\\right]$"
      ],
      "text/plain": [
       "Matrix([\n",
       "[0.0],\n",
       "[1.0],\n",
       "[1.0]])"
      ]
     },
     "execution_count": 23,
     "metadata": {},
     "output_type": "execute_result"
    }
   ],
   "source": [
    "#Finding D2\n",
    "matrixd2= linalg.solve(np.array(matrixl.tolist()).astype(np.float64), matrixI[: , 1])\n",
    "Matrix(matrixd2)"
   ]
  },
  {
   "cell_type": "code",
   "execution_count": 24,
   "metadata": {},
   "outputs": [
    {
     "data": {
      "text/latex": [
       "$\\displaystyle \\left[\\begin{matrix}0.333333333333333\\\\0.333333333333333\\\\-1.0\\end{matrix}\\right]$"
      ],
      "text/plain": [
       "Matrix([\n",
       "[0.333333333333333],\n",
       "[0.333333333333333],\n",
       "[             -1.0]])"
      ]
     },
     "execution_count": 24,
     "metadata": {},
     "output_type": "execute_result"
    }
   ],
   "source": [
    "# Second Column\n",
    "Imatrix2= linalg.solve(np.array(matrixu.tolist()).astype(np.float64), matrixd2)\n",
    "Matrix(Imatrix2)"
   ]
  },
  {
   "cell_type": "code",
   "execution_count": 25,
   "metadata": {},
   "outputs": [
    {
     "data": {
      "text/latex": [
       "$\\displaystyle \\left[\\begin{matrix}0.0\\\\0.0\\\\1.0\\end{matrix}\\right]$"
      ],
      "text/plain": [
       "Matrix([\n",
       "[0.0],\n",
       "[0.0],\n",
       "[1.0]])"
      ]
     },
     "execution_count": 25,
     "metadata": {},
     "output_type": "execute_result"
    }
   ],
   "source": [
    "#Finding D3\n",
    "matrixd3= linalg.solve(np.array(matrixl.tolist()).astype(np.float64), matrixI[: , 2])\n",
    "Matrix(matrixd3)"
   ]
  },
  {
   "cell_type": "code",
   "execution_count": 26,
   "metadata": {},
   "outputs": [
    {
     "data": {
      "text/latex": [
       "$\\displaystyle \\left[\\begin{matrix}0.0\\\\1.0\\\\-1.0\\end{matrix}\\right]$"
      ],
      "text/plain": [
       "Matrix([\n",
       "[ 0.0],\n",
       "[ 1.0],\n",
       "[-1.0]])"
      ]
     },
     "execution_count": 26,
     "metadata": {},
     "output_type": "execute_result"
    }
   ],
   "source": [
    "# Third Column\n",
    "Imatrix3= linalg.solve(np.array(matrixu.tolist()).astype(np.float64), matrixd3)\n",
    "Matrix(Imatrix3)"
   ]
  },
  {
   "cell_type": "code",
   "execution_count": 27,
   "metadata": {},
   "outputs": [
    {
     "data": {
      "text/latex": [
       "$\\displaystyle \\left[\\begin{matrix}0.333333333333333 & 0.333333333333333 & 0.0\\\\-0.666666666666667 & 0.333333333333333 & 1.0\\\\1.0 & -1.0 & -1.0\\end{matrix}\\right]$"
      ],
      "text/plain": [
       "Matrix([\n",
       "[ 0.333333333333333, 0.333333333333333,  0.0],\n",
       "[-0.666666666666667, 0.333333333333333,  1.0],\n",
       "[               1.0,              -1.0, -1.0]])"
      ]
     },
     "execution_count": 27,
     "metadata": {},
     "output_type": "execute_result"
    }
   ],
   "source": [
    "InverseMatrix = np.array((Imatrix1,Imatrix2,Imatrix3))\n",
    "Matrix(np.transpose(InverseMatrix))"
   ]
  },
  {
   "cell_type": "markdown",
   "metadata": {},
   "source": [
    "Sanity Check to ensure is correct"
   ]
  },
  {
   "cell_type": "code",
   "execution_count": 28,
   "metadata": {},
   "outputs": [
    {
     "data": {
      "text/latex": [
       "$\\displaystyle \\left[\\begin{matrix}0.333333333333333 & 0.333333333333333 & 0.0\\\\-0.666666666666667 & 0.333333333333333 & 1.0\\\\1.0 & -1.0 & -1.0\\end{matrix}\\right]$"
      ],
      "text/plain": [
       "Matrix([\n",
       "[ 0.333333333333333, 0.333333333333333,  0.0],\n",
       "[-0.666666666666667, 0.333333333333333,  1.0],\n",
       "[               1.0,              -1.0, -1.0]])"
      ]
     },
     "execution_count": 28,
     "metadata": {},
     "output_type": "execute_result"
    }
   ],
   "source": [
    "Matrix(linalg.inv(test.matrixa.astype(np.float64)))"
   ]
  },
  {
   "cell_type": "code",
   "execution_count": null,
   "metadata": {},
   "outputs": [],
   "source": []
  },
  {
   "cell_type": "code",
   "execution_count": null,
   "metadata": {},
   "outputs": [],
   "source": []
  },
  {
   "cell_type": "code",
   "execution_count": null,
   "metadata": {},
   "outputs": [],
   "source": []
  },
  {
   "cell_type": "code",
   "execution_count": null,
   "metadata": {},
   "outputs": [],
   "source": []
  },
  {
   "cell_type": "code",
   "execution_count": null,
   "metadata": {},
   "outputs": [],
   "source": []
  }
 ],
 "metadata": {
  "kernelspec": {
   "display_name": "Python 3",
   "language": "python",
   "name": "python3"
  },
  "language_info": {
   "codemirror_mode": {
    "name": "ipython",
    "version": 3
   },
   "file_extension": ".py",
   "mimetype": "text/x-python",
   "name": "python",
   "nbconvert_exporter": "python",
   "pygments_lexer": "ipython3",
   "version": "3.8.3"
  }
 },
 "nbformat": 4,
 "nbformat_minor": 2
}
