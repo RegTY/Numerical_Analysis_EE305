{
 "cells": [
  {
   "cell_type": "code",
   "execution_count": 29,
   "metadata": {},
   "outputs": [],
   "source": [
    "import numpy as np\n",
    "import scipy \n",
    "import pprint\n",
    "from scipy import linalg\n",
    "from sympy import *\n",
    "import Matrix as CLO2\n",
    "\n"
   ]
  },
  {
   "cell_type": "code",
   "execution_count": 30,
   "metadata": {},
   "outputs": [
    {
     "data": {
      "text/latex": [
       "$\\displaystyle \\left[\\begin{matrix}6.0 & 2.0 & 1.0\\\\2.0 & 8.0 & 3.0\\\\1.0 & 1.0 & 5.0\\end{matrix}\\right]$"
      ],
      "text/plain": [
       "Matrix([\n",
       "[6.0, 2.0, 1.0],\n",
       "[2.0, 8.0, 3.0],\n",
       "[1.0, 1.0, 5.0]])"
      ]
     },
     "execution_count": 30,
     "metadata": {},
     "output_type": "execute_result"
    }
   ],
   "source": [
    "coeffequation1 = [6,2,1, 9.0]\n",
    "coeffequation2 = [2,8,3, 13]\n",
    "coeffequation3 = [1,1,5, 7]\n",
    "\n",
    "np.set_printoptions(precision=3)\n",
    "\n",
    "test = CLO2.matrix(coeffequation1,coeffequation2,coeffequation3)\n",
    "test.matrixA"
   ]
  },
  {
   "cell_type": "markdown",
   "metadata": {},
   "source": [
    "Using Matrix Decomposition to calculate Roots"
   ]
  },
  {
   "cell_type": "code",
   "execution_count": 31,
   "metadata": {},
   "outputs": [
    {
     "name": "stdout",
     "output_type": "stream",
     "text": [
      "Step 1: -Row1 * [0.333333333333333] + Row2\n",
      "Step 2: -Row1 * [0.166666666666667] + Row2 yielding: \n",
      "\n",
      "[[6.00000000000000 2.00000000000000 1.00000000000000]\n",
      " [0 7.33333333333333 2.66666666666667]\n",
      " [0 0.666666666666667 4.83333333333333]] \n",
      "\n",
      "Step3: -Row2 * [0.0909090909090909] + Row 3 \n",
      "\n",
      "[[6.00000000000000 2.00000000000000 1.00000000000000]\n",
      " [0 7.33333333333333 2.66666666666667]\n",
      " [0 0 4.59090909090909]]\n"
     ]
    },
    {
     "data": {
      "text/latex": [
       "$\\displaystyle \\left[\\begin{matrix}6.0 & 2.0 & 1.0\\\\0 & 7.33333333333333 & 2.66666666666667\\\\0 & 0 & 4.59090909090909\\end{matrix}\\right]$"
      ],
      "text/plain": [
       "Matrix([\n",
       "[6.0,              2.0,              1.0],\n",
       "[  0, 7.33333333333333, 2.66666666666667],\n",
       "[  0,                0, 4.59090909090909]])"
      ]
     },
     "execution_count": 31,
     "metadata": {},
     "output_type": "execute_result"
    }
   ],
   "source": [
    "matrixu, l1,l2,l3 = test.uDecompost(test.matrixA)\n",
    "matrixu"
   ]
  },
  {
   "cell_type": "code",
   "execution_count": 32,
   "metadata": {},
   "outputs": [
    {
     "data": {
      "text/latex": [
       "$\\displaystyle \\left[\\begin{matrix}1.0 & 0.0 & 0.0\\\\0.333333333333333 & 1.0 & 0.0\\\\0.166666666666667 & 0.0909090909090909 & 1.0\\end{matrix}\\right]$"
      ],
      "text/plain": [
       "Matrix([\n",
       "[              1.0,                0.0, 0.0],\n",
       "[0.333333333333333,                1.0, 0.0],\n",
       "[0.166666666666667, 0.0909090909090909, 1.0]])"
      ]
     },
     "execution_count": 32,
     "metadata": {},
     "output_type": "execute_result"
    }
   ],
   "source": [
    "matrixl = test.lDecompost(l1,l2,l3)\n",
    "matrixl"
   ]
  },
  {
   "cell_type": "code",
   "execution_count": 33,
   "metadata": {},
   "outputs": [
    {
     "data": {
      "text/latex": [
       "$\\displaystyle \\left[\\begin{matrix}9.0\\\\10.0\\\\4.59090909090909\\end{matrix}\\right]$"
      ],
      "text/plain": [
       "Matrix([\n",
       "[             9.0],\n",
       "[            10.0],\n",
       "[4.59090909090909]])"
      ]
     },
     "execution_count": 33,
     "metadata": {},
     "output_type": "execute_result"
    }
   ],
   "source": [
    "matrixd = linalg.solve(np.array(matrixl.tolist()).astype(np.float64), test.matrixb)\n",
    "matrixD = Matrix(matrixd)\n",
    "matrixD"
   ]
  },
  {
   "cell_type": "code",
   "execution_count": 34,
   "metadata": {},
   "outputs": [
    {
     "data": {
      "text/latex": [
       "$\\displaystyle \\left[\\begin{matrix}1.0\\\\1.0\\\\1.0\\end{matrix}\\right]$"
      ],
      "text/plain": [
       "Matrix([\n",
       "[1.0],\n",
       "[1.0],\n",
       "[1.0]])"
      ]
     },
     "execution_count": 34,
     "metadata": {},
     "output_type": "execute_result"
    }
   ],
   "source": [
    "ans= linalg.solve(np.array(matrixu.tolist()).astype(np.float64), matrixd)\n",
    "Matrix(ans)"
   ]
  },
  {
   "cell_type": "code",
   "execution_count": 41,
   "metadata": {},
   "outputs": [
    {
     "data": {
      "text/latex": [
       "$\\displaystyle \\left\\{\\left( 1.0, \\  1.0, \\  1.0\\right)\\right\\}$"
      ],
      "text/plain": [
       "{(1.0, 1.0, 1.0)}"
      ]
     },
     "execution_count": 41,
     "metadata": {},
     "output_type": "execute_result"
    }
   ],
   "source": [
    "x1,x2 ,x3 = symbols('x1, x2, x3')\n",
    "linsolve(Matrix(test.matrixdata), (x1,x2,x3))"
   ]
  },
  {
   "cell_type": "markdown",
   "metadata": {},
   "source": [
    "$ \\textbf{Using LU Decomposition to determine Inverse} $\n",
    "\n",
    "using the principle of LU Decomposition\n",
    " $$ [A]^{-1} = \\left[\\{x\\}_1 \\{x\\}_2 \\{x\\}_3 \\right]$$\n",
    " \n",
    " where $ \\{x\\}_n $ represents the nth column of $[A]^{-1}$"
   ]
  },
  {
   "cell_type": "code",
   "execution_count": 36,
   "metadata": {},
   "outputs": [
    {
     "data": {
      "text/latex": [
       "$\\displaystyle \\left[\\begin{matrix}6.0 & 2.0 & 1.0\\\\2.0 & 8.0 & 3.0\\\\1.0 & 1.0 & 5.0\\end{matrix}\\right]$"
      ],
      "text/plain": [
       "Matrix([\n",
       "[6.0, 2.0, 1.0],\n",
       "[2.0, 8.0, 3.0],\n",
       "[1.0, 1.0, 5.0]])"
      ]
     },
     "execution_count": 36,
     "metadata": {},
     "output_type": "execute_result"
    }
   ],
   "source": [
    "test.matrixA"
   ]
  },
  {
   "cell_type": "code",
   "execution_count": 37,
   "metadata": {},
   "outputs": [
    {
     "name": "stdout",
     "output_type": "stream",
     "text": [
      "Step 1: -Row1 * [0.333333333333333] + Row2\n",
      "Step 2: -Row1 * [0.166666666666667] + Row2 yielding: \n",
      "\n",
      "[[6.00000000000000 2.00000000000000 1.00000000000000]\n",
      " [0 7.33333333333333 2.66666666666667]\n",
      " [0 0.666666666666667 4.83333333333333]] \n",
      "\n",
      "Step3: -Row2 * [0.0909090909090909] + Row 3 \n",
      "\n",
      "[[6.00000000000000 2.00000000000000 1.00000000000000]\n",
      " [0 7.33333333333333 2.66666666666667]\n",
      " [0 0 4.59090909090909]]\n"
     ]
    },
    {
     "data": {
      "text/latex": [
       "$\\displaystyle \\left[\\begin{matrix}6.0 & 2.0 & 1.0\\\\0 & 7.33333333333333 & 2.66666666666667\\\\0 & 0 & 4.59090909090909\\end{matrix}\\right]$"
      ],
      "text/plain": [
       "Matrix([\n",
       "[6.0,              2.0,              1.0],\n",
       "[  0, 7.33333333333333, 2.66666666666667],\n",
       "[  0,                0, 4.59090909090909]])"
      ]
     },
     "execution_count": 37,
     "metadata": {},
     "output_type": "execute_result"
    }
   ],
   "source": [
    "matrixu, l1,l2,l3 = test.uDecompost(test.matrixA)\n",
    "matrixu"
   ]
  },
  {
   "cell_type": "code",
   "execution_count": 38,
   "metadata": {},
   "outputs": [
    {
     "data": {
      "text/latex": [
       "$\\displaystyle \\left[\\begin{matrix}1.0 & 0.0 & 0.0\\\\0.333333333333333 & 1.0 & 0.0\\\\0.166666666666667 & 0.0909090909090909 & 1.0\\end{matrix}\\right]$"
      ],
      "text/plain": [
       "Matrix([\n",
       "[              1.0,                0.0, 0.0],\n",
       "[0.333333333333333,                1.0, 0.0],\n",
       "[0.166666666666667, 0.0909090909090909, 1.0]])"
      ]
     },
     "execution_count": 38,
     "metadata": {},
     "output_type": "execute_result"
    }
   ],
   "source": [
    "matrixl = test.lDecompost(l1,l2,l3)\n",
    "matrixl"
   ]
  },
  {
   "cell_type": "markdown",
   "metadata": {},
   "source": [
    "STEP 1: Determining the 1st Column of $[A]^{-1}$\n",
    "using\n",
    "$$ [L]\\{d\\}_1 = \\{b\\}_1$$\n",
    "\n",
    "$$ [U]\\{x\\}_1 = \\{d\\}_1 $$\n",
    "\n",
    "where $ \\{b\\}_n $ is the nth column of the identity matrix and  $ \\{x\\}_n $ is the nth column of the inverse matrix"
   ]
  },
  {
   "cell_type": "code",
   "execution_count": 39,
   "metadata": {},
   "outputs": [
    {
     "data": {
      "text/latex": [
       "$\\displaystyle \\left[\\begin{matrix}1.0 & 0.0 & 0.0\\\\0.0 & 1.0 & 0.0\\\\0.0 & 0.0 & 1.0\\end{matrix}\\right]$"
      ],
      "text/plain": [
       "Matrix([\n",
       "[1.0, 0.0, 0.0],\n",
       "[0.0, 1.0, 0.0],\n",
       "[0.0, 0.0, 1.0]])"
      ]
     },
     "execution_count": 39,
     "metadata": {},
     "output_type": "execute_result"
    }
   ],
   "source": [
    "matrixI = np.identity(3)\n",
    "Matrix(matrixI)\n"
   ]
  },
  {
   "cell_type": "code",
   "execution_count": 11,
   "metadata": {},
   "outputs": [
    {
     "data": {
      "text/latex": [
       "$\\displaystyle \\left[\\begin{matrix}1.0\\\\-0.333333333333333\\\\-0.136363636363636\\end{matrix}\\right]$"
      ],
      "text/plain": [
       "Matrix([\n",
       "[               1.0],\n",
       "[-0.333333333333333],\n",
       "[-0.136363636363636]])"
      ]
     },
     "execution_count": 11,
     "metadata": {},
     "output_type": "execute_result"
    }
   ],
   "source": [
    "#Finding D1\n",
    "matrixd1= linalg.solve(np.array(matrixl.tolist()).astype(np.float64), matrixI[: , 0])\n",
    "Matrix(matrixd1)"
   ]
  },
  {
   "cell_type": "code",
   "execution_count": 12,
   "metadata": {},
   "outputs": [
    {
     "data": {
      "text/latex": [
       "$\\displaystyle \\left[\\begin{matrix}0.183168316831683\\\\-0.0346534653465346\\\\-0.0297029702970297\\end{matrix}\\right]$"
      ],
      "text/plain": [
       "Matrix([\n",
       "[  0.183168316831683],\n",
       "[-0.0346534653465346],\n",
       "[-0.0297029702970297]])"
      ]
     },
     "execution_count": 12,
     "metadata": {},
     "output_type": "execute_result"
    }
   ],
   "source": [
    "# FIrst Column\n",
    "Imatrix1= linalg.solve(np.array(matrixu.tolist()).astype(np.float64), matrixd1)\n",
    "Matrix(Imatrix1)"
   ]
  },
  {
   "cell_type": "markdown",
   "metadata": {},
   "source": [
    "Repeat for the rest of the columns"
   ]
  },
  {
   "cell_type": "code",
   "execution_count": 13,
   "metadata": {},
   "outputs": [
    {
     "data": {
      "text/latex": [
       "$\\displaystyle \\left[\\begin{matrix}0.0\\\\1.0\\\\-0.0909090909090909\\end{matrix}\\right]$"
      ],
      "text/plain": [
       "Matrix([\n",
       "[                0.0],\n",
       "[                1.0],\n",
       "[-0.0909090909090909]])"
      ]
     },
     "execution_count": 13,
     "metadata": {},
     "output_type": "execute_result"
    }
   ],
   "source": [
    "#Finding D2\n",
    "matrixd2= linalg.solve(np.array(matrixl.tolist()).astype(np.float64), matrixI[: , 1])\n",
    "Matrix(matrixd2)"
   ]
  },
  {
   "cell_type": "code",
   "execution_count": 14,
   "metadata": {},
   "outputs": [
    {
     "data": {
      "text/latex": [
       "$\\displaystyle \\left[\\begin{matrix}-0.0445544554455445\\\\0.143564356435644\\\\-0.0198019801980198\\end{matrix}\\right]$"
      ],
      "text/plain": [
       "Matrix([\n",
       "[-0.0445544554455445],\n",
       "[  0.143564356435644],\n",
       "[-0.0198019801980198]])"
      ]
     },
     "execution_count": 14,
     "metadata": {},
     "output_type": "execute_result"
    }
   ],
   "source": [
    "# Second Column\n",
    "Imatrix2= linalg.solve(np.array(matrixu.tolist()).astype(np.float64), matrixd2)\n",
    "Matrix(Imatrix2)"
   ]
  },
  {
   "cell_type": "code",
   "execution_count": 15,
   "metadata": {},
   "outputs": [
    {
     "data": {
      "text/latex": [
       "$\\displaystyle \\left[\\begin{matrix}0.0\\\\0.0\\\\1.0\\end{matrix}\\right]$"
      ],
      "text/plain": [
       "Matrix([\n",
       "[0.0],\n",
       "[0.0],\n",
       "[1.0]])"
      ]
     },
     "execution_count": 15,
     "metadata": {},
     "output_type": "execute_result"
    }
   ],
   "source": [
    "#Finding D3\n",
    "matrixd3= linalg.solve(np.array(matrixl.tolist()).astype(np.float64), matrixI[: , 2])\n",
    "Matrix(matrixd3)"
   ]
  },
  {
   "cell_type": "code",
   "execution_count": 16,
   "metadata": {},
   "outputs": [
    {
     "data": {
      "text/latex": [
       "$\\displaystyle \\left[\\begin{matrix}-0.0099009900990099\\\\-0.0792079207920792\\\\0.217821782178218\\end{matrix}\\right]$"
      ],
      "text/plain": [
       "Matrix([\n",
       "[-0.0099009900990099],\n",
       "[-0.0792079207920792],\n",
       "[  0.217821782178218]])"
      ]
     },
     "execution_count": 16,
     "metadata": {},
     "output_type": "execute_result"
    }
   ],
   "source": [
    "# Third Column\n",
    "Imatrix3= linalg.solve(np.array(matrixu.tolist()).astype(np.float64), matrixd3)\n",
    "Matrix(Imatrix3)"
   ]
  },
  {
   "cell_type": "code",
   "execution_count": 17,
   "metadata": {},
   "outputs": [
    {
     "data": {
      "text/latex": [
       "$\\displaystyle \\left[\\begin{matrix}0.183168316831683 & -0.0445544554455445 & -0.0099009900990099\\\\-0.0346534653465346 & 0.143564356435644 & -0.0792079207920792\\\\-0.0297029702970297 & -0.0198019801980198 & 0.217821782178218\\end{matrix}\\right]$"
      ],
      "text/plain": [
       "Matrix([\n",
       "[  0.183168316831683, -0.0445544554455445, -0.0099009900990099],\n",
       "[-0.0346534653465346,   0.143564356435644, -0.0792079207920792],\n",
       "[-0.0297029702970297, -0.0198019801980198,   0.217821782178218]])"
      ]
     },
     "execution_count": 17,
     "metadata": {},
     "output_type": "execute_result"
    }
   ],
   "source": [
    "InverseMatrix = np.array((Imatrix1,Imatrix2,Imatrix3))\n",
    "Matrix(np.transpose(InverseMatrix))"
   ]
  },
  {
   "cell_type": "markdown",
   "metadata": {},
   "source": [
    "Sanity Check to ensure is correct"
   ]
  },
  {
   "cell_type": "code",
   "execution_count": 18,
   "metadata": {},
   "outputs": [
    {
     "data": {
      "text/latex": [
       "$\\displaystyle \\left[\\begin{matrix}0.183168316831683 & -0.0445544554455446 & -0.0099009900990099\\\\-0.0346534653465347 & 0.143564356435644 & -0.0792079207920792\\\\-0.0297029702970297 & -0.0198019801980198 & 0.217821782178218\\end{matrix}\\right]$"
      ],
      "text/plain": [
       "Matrix([\n",
       "[  0.183168316831683, -0.0445544554455446, -0.0099009900990099],\n",
       "[-0.0346534653465347,   0.143564356435644, -0.0792079207920792],\n",
       "[-0.0297029702970297, -0.0198019801980198,   0.217821782178218]])"
      ]
     },
     "execution_count": 18,
     "metadata": {},
     "output_type": "execute_result"
    }
   ],
   "source": [
    "Matrix(linalg.inv(test.matrixa.astype(np.float64)))"
   ]
  },
  {
   "cell_type": "code",
   "execution_count": 19,
   "metadata": {},
   "outputs": [
    {
     "data": {
      "text/latex": [
       "$\\displaystyle 8.0$"
      ],
      "text/plain": [
       "8.00000000000000"
      ]
     },
     "execution_count": 19,
     "metadata": {},
     "output_type": "execute_result"
    }
   ],
   "source": [
    "np.array(test.matrixA)[1][1]"
   ]
  },
  {
   "cell_type": "code",
   "execution_count": null,
   "metadata": {},
   "outputs": [],
   "source": []
  },
  {
   "cell_type": "code",
   "execution_count": null,
   "metadata": {},
   "outputs": [],
   "source": []
  },
  {
   "cell_type": "code",
   "execution_count": null,
   "metadata": {},
   "outputs": [],
   "source": []
  },
  {
   "cell_type": "code",
   "execution_count": null,
   "metadata": {},
   "outputs": [],
   "source": []
  }
 ],
 "metadata": {
  "kernelspec": {
   "display_name": "Python 3",
   "language": "python",
   "name": "python3"
  },
  "language_info": {
   "codemirror_mode": {
    "name": "ipython",
    "version": 3
   },
   "file_extension": ".py",
   "mimetype": "text/x-python",
   "name": "python",
   "nbconvert_exporter": "python",
   "pygments_lexer": "ipython3",
   "version": "3.7.4"
  }
 },
 "nbformat": 4,
 "nbformat_minor": 2
}
