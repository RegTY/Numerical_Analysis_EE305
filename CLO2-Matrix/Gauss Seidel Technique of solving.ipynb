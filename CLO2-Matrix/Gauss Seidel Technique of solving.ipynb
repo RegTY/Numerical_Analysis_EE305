{
 "cells": [
  {
   "cell_type": "code",
   "execution_count": 1,
   "metadata": {},
   "outputs": [],
   "source": [
    "import numpy as np\n",
    "import scipy \n",
    "import pprint\n",
    "from scipy import linalg\n",
    "from sympy import *\n",
    "import Matrix as CLO2\n",
    "init_session() "
   ]
  },
  {
   "cell_type": "code",
   "execution_count": 137,
   "metadata": {},
   "outputs": [
    {
     "data": {
      "text/latex": [
       "$\\displaystyle \\left[\\begin{matrix}8.0 & 3.0 & 2.0\\\\1.0 & 5.0 & 1.0\\\\2.0 & 1.0 & 6.0\\end{matrix}\\right]$"
      ],
      "text/plain": [
       "Matrix([\n",
       "[8.0, 3.0, 2.0],\n",
       "[1.0, 5.0, 1.0],\n",
       "[2.0, 1.0, 6.0]])"
      ]
     },
     "execution_count": 137,
     "metadata": {},
     "output_type": "execute_result"
    }
   ],
   "source": [
    "coeffequation1 = [8,3,2,13.0]\n",
    "coeffequation2 = [1,5,1,7]\n",
    "coeffequation3 = [2,1,6,9]\n",
    "# coeffequation1 = [3, -0.1, -0.2, 7.85]\n",
    "# coeffequation2 = [0.1,7,-0.3,-19.3]\n",
    "# coeffequation3 = [0.3,-0.2,10,71.4]\n",
    "\n",
    "\n",
    "test = CLO2.matrix(coeffequation1,coeffequation2,coeffequation3)\n",
    "test.matrixA"
   ]
  },
  {
   "cell_type": "code",
   "execution_count": 138,
   "metadata": {},
   "outputs": [],
   "source": [
    "def x1func(x2,x3):\n",
    "    x1 = (test.matrixb[0] - test.matrixa[0][1] * x2 -  test.matrixa[0][2] * x3)/test.matrixa[0][0]\n",
    "    return x1\n",
    "def x2func(x1,x3):\n",
    "    x2 = (test.matrixb[1] - test.matrixa[1][0] * x1 -  test.matrixa[1][2] * x3)/test.matrixa[1][1]\n",
    "    return x2   \n",
    "def x3func(x1,x2):\n",
    "    x3 = (test.matrixb[2] - test.matrixa[2][0] * x1 -  test.matrixa[2][1] * x2)/test.matrixa[2][2]\n",
    "    return x3"
   ]
  },
  {
   "cell_type": "code",
   "execution_count": 139,
   "metadata": {},
   "outputs": [],
   "source": [
    "def Gauss_Seidel(x1,x2,x3 , n):\n",
    "    iterations = n\n",
    "\n",
    "    #Initial Values\n",
    "    x1 = x1\n",
    "    x2 = x2\n",
    "    x3 =x3\n",
    "    for i in range(0,iterations):\n",
    "        print(\"~~~~~~~~~~~~~~~~~~~~~~~~~~~~~~~~~~~~~~~~\")\n",
    "        print(f\"{i+1} iteration\")\n",
    "        print (f\"X1 is {x1}, X2 is {x2}, x3 is {x3}\\n\")\n",
    "        x1 = x1func(x2,x3)\n",
    "        print(\"calculating for x1 using formula\\n\")\n",
    "        #print( f\"(({test.matrixb[0]})-({test.matrixa[0][1]})*({x2})-({test.matrixa[0][2]})*({x3})/{test.matrixa[0][0]} \")\n",
    "        \n",
    "        print (f\"X1 is {x1}, X2 is {x2}, x3 is {x3}\\n\")       \n",
    "        x2 = x2func(x1,x3)\n",
    "        print(\"calculating for x2 using formula\")\n",
    "        print (f\"X1 is {x1}, X2 is {x2}, x3 is {x3}\\n\")       \n",
    "        x3 = x3func(x1,x2)\n",
    "        print(\"calculating for x3 using formula\")\n",
    "        \n",
    "        print (f\"X1 is {x1}, X2 is {x2}, x3 is {x3}\\n\")\n",
    "    return x1,x2,x3\n",
    "\n",
    "    \n",
    "    \n",
    "    "
   ]
  },
  {
   "cell_type": "code",
   "execution_count": 144,
   "metadata": {},
   "outputs": [
    {
     "name": "stdout",
     "output_type": "stream",
     "text": [
      "~~~~~~~~~~~~~~~~~~~~~~~~~~~~~~~~~~~~~~~~\n",
      "1 iteration\n",
      "X1 is 0, X2 is 0, x3 is 0\n",
      "\n",
      "calculating for x1 using formula\n",
      "\n",
      "X1 is 1.62500000000000, X2 is 0, x3 is 0\n",
      "\n",
      "calculating for x2 using formula\n",
      "X1 is 1.62500000000000, X2 is 1.07500000000000, x3 is 0\n",
      "\n",
      "calculating for x3 using formula\n",
      "X1 is 1.62500000000000, X2 is 1.07500000000000, x3 is 0.779166666666667\n",
      "\n",
      "~~~~~~~~~~~~~~~~~~~~~~~~~~~~~~~~~~~~~~~~\n",
      "2 iteration\n",
      "X1 is 1.62500000000000, X2 is 1.07500000000000, x3 is 0.779166666666667\n",
      "\n",
      "calculating for x1 using formula\n",
      "\n",
      "X1 is 1.02708333333333, X2 is 1.07500000000000, x3 is 0.779166666666667\n",
      "\n",
      "calculating for x2 using formula\n",
      "X1 is 1.02708333333333, X2 is 1.03875000000000, x3 is 0.779166666666667\n",
      "\n",
      "calculating for x3 using formula\n",
      "X1 is 1.02708333333333, X2 is 1.03875000000000, x3 is 0.984513888888889\n",
      "\n",
      "~~~~~~~~~~~~~~~~~~~~~~~~~~~~~~~~~~~~~~~~\n",
      "3 iteration\n",
      "X1 is 1.02708333333333, X2 is 1.03875000000000, x3 is 0.984513888888889\n",
      "\n",
      "calculating for x1 using formula\n",
      "\n",
      "X1 is 0.989340277777778, X2 is 1.03875000000000, x3 is 0.984513888888889\n",
      "\n",
      "calculating for x2 using formula\n",
      "X1 is 0.989340277777778, X2 is 1.00522916666667, x3 is 0.984513888888889\n",
      "\n",
      "calculating for x3 using formula\n",
      "X1 is 0.989340277777778, X2 is 1.00522916666667, x3 is 1.00268171296296\n",
      "\n"
     ]
    },
    {
     "data": {
      "text/plain": [
       "(0.989340277777778, 1.00522916666667, 1.00268171296296)"
      ]
     },
     "execution_count": 144,
     "metadata": {},
     "output_type": "execute_result"
    }
   ],
   "source": [
    "Gauss_Seidel(0,0,0 , 3)"
   ]
  },
  {
   "cell_type": "code",
   "execution_count": 141,
   "metadata": {},
   "outputs": [],
   "source": [
    "def Jacobi_Iterative(x1,x2,x3 , n):\n",
    "    iterations = n\n",
    "\n",
    "    #Initial Values\n",
    "    x1 = x1\n",
    "    x2 = x2\n",
    "    x3 = x3\n",
    "    \n",
    "    x1new = 0\n",
    "    x2new = 0 \n",
    "    x3new = 0\n",
    "    for i in range(0,iterations):\n",
    "        print(\"~~~~~~~~~~~~~~~~~~~~~~~~~~~~~~~~~~~~~~~~\")\n",
    "        print(f\"{i+1} iteration\")\n",
    "        \n",
    "        \n",
    "        print(\"calculating for x1,x2,x3 using formula\") \n",
    "        x1new = x1func(x2,x3)\n",
    "        x2new = x2func(x1,x3)\n",
    "        x3new = x3func(x1,x2)\n",
    "        \n",
    "        print (f\"X1 is {x1new}, X2 is {x2new}, x3 is {x3new}\\n\")\n",
    "        x1 = x1new\n",
    "        x2 = x2new\n",
    "        x3 = x3new\n",
    "        \n",
    "        \n",
    "    return x1,x2,x3\n"
   ]
  },
  {
   "cell_type": "code",
   "execution_count": 143,
   "metadata": {},
   "outputs": [
    {
     "name": "stdout",
     "output_type": "stream",
     "text": [
      "~~~~~~~~~~~~~~~~~~~~~~~~~~~~~~~~~~~~~~~~\n",
      "1 iteration\n",
      "calculating for x1,x2,x3 using formula\n",
      "X1 is 1.62500000000000, X2 is 1.40000000000000, x3 is 1.50000000000000\n",
      "\n",
      "~~~~~~~~~~~~~~~~~~~~~~~~~~~~~~~~~~~~~~~~\n",
      "2 iteration\n",
      "calculating for x1,x2,x3 using formula\n",
      "X1 is 0.725000000000000, X2 is 0.775000000000000, x3 is 0.725000000000000\n",
      "\n",
      "~~~~~~~~~~~~~~~~~~~~~~~~~~~~~~~~~~~~~~~~\n",
      "3 iteration\n",
      "calculating for x1,x2,x3 using formula\n",
      "X1 is 1.15312500000000, X2 is 1.11000000000000, x3 is 1.12916666666667\n",
      "\n"
     ]
    },
    {
     "data": {
      "text/plain": [
       "(1.15312500000000, 1.11000000000000, 1.12916666666667)"
      ]
     },
     "execution_count": 143,
     "metadata": {},
     "output_type": "execute_result"
    }
   ],
   "source": [
    "Jacobi_Iterative(0,0,0,3)"
   ]
  },
  {
   "cell_type": "code",
   "execution_count": null,
   "metadata": {},
   "outputs": [],
   "source": []
  },
  {
   "cell_type": "code",
   "execution_count": null,
   "metadata": {},
   "outputs": [],
   "source": []
  },
  {
   "cell_type": "code",
   "execution_count": null,
   "metadata": {},
   "outputs": [],
   "source": []
  }
 ],
 "metadata": {
  "kernelspec": {
   "display_name": "Python 3",
   "language": "python",
   "name": "python3"
  },
  "language_info": {
   "codemirror_mode": {
    "name": "ipython",
    "version": 3
   },
   "file_extension": ".py",
   "mimetype": "text/x-python",
   "name": "python",
   "nbconvert_exporter": "python",
   "pygments_lexer": "ipython3",
   "version": "3.7.4"
  }
 },
 "nbformat": 4,
 "nbformat_minor": 2
}
