{
 "cells": [
  {
   "cell_type": "code",
   "execution_count": 1,
   "metadata": {},
   "outputs": [
    {
     "name": "stdout",
     "output_type": "stream",
     "text": [
      "IPython console for SymPy 1.6.1 (Python 3.8.3-64-bit) (ground types: gmpy)\n",
      "\n",
      "These commands were executed:\n",
      ">>> from __future__ import division\n",
      ">>> from sympy import *\n",
      ">>> x, y, z, t = symbols('x y z t')\n",
      ">>> k, m, n = symbols('k m n', integer=True)\n",
      ">>> f, g, h = symbols('f g h', cls=Function)\n",
      ">>> init_printing()\n",
      "\n",
      "Documentation can be found at https://docs.sympy.org/1.6.1/\n",
      "\n"
     ]
    }
   ],
   "source": [
    "import numpy as np\n",
    "import scipy \n",
    "import pprint\n",
    "from scipy import linalg\n",
    "from sympy import *\n",
    "import Matrix as CLO2\n",
    "init_session() "
   ]
  },
  {
   "cell_type": "code",
   "execution_count": 9,
   "metadata": {},
   "outputs": [
    {
     "data": {
      "image/png": "[encoded data removed]",
      "text/latex": [
       "$\\displaystyle \\left[\\begin{matrix}8 & 1 & 1\\\\1 & 8 & 1\\\\1 & 1 & 8\\end{matrix}\\right]$"
      ],
      "text/plain": [
       "⎡8  1  1⎤\n",
       "⎢       ⎥\n",
       "⎢1  8  1⎥\n",
       "⎢       ⎥\n",
       "⎣1  1  8⎦"
      ]
     },
     "execution_count": 9,
     "metadata": {},
     "output_type": "execute_result"
    }
   ],
   "source": [
    "coeffequation1 = [8,1,1,5]\n",
    "coeffequation2 = [1,8,1,5]\n",
    "coeffequation3 = [1,1,8,5]\n",
    "# coeffequation1 = [3, -0.1, -0.2, 7.85]\n",
    "# coeffequation2 = [0.1,7,-0.3,-19.3]\n",
    "# coeffequation3 = [0.3,-0.2,10,71.4]\n",
    "\n",
    "\n",
    "test = CLO2.matrix(coeffequation1,coeffequation2,coeffequation3)\n",
    "test.matrixA"
   ]
  },
  {
   "cell_type": "code",
   "execution_count": 10,
   "metadata": {},
   "outputs": [],
   "source": [
    "def x1func(x2,x3):\n",
    "    x1 = (test.matrixb[0] - test.matrixa[0][1] * x2 -  test.matrixa[0][2] * x3)/test.matrixa[0][0]\n",
    "    return x1\n",
    "def x2func(x1,x3):\n",
    "    x2 = (test.matrixb[1] - test.matrixa[1][0] * x1 -  test.matrixa[1][2] * x3)/test.matrixa[1][1]\n",
    "    return x2   \n",
    "def x3func(x1,x2):\n",
    "    x3 = (test.matrixb[2] - test.matrixa[2][0] * x1 -  test.matrixa[2][1] * x2)/test.matrixa[2][2]\n",
    "    return x3"
   ]
  },
  {
   "cell_type": "code",
   "execution_count": 11,
   "metadata": {},
   "outputs": [],
   "source": [
    "def Gauss_Seidel(x1,x2,x3 , n):\n",
    "    iterations = n\n",
    "\n",
    "    #Initial Values\n",
    "    x1 = x1\n",
    "    x2 = x2\n",
    "    x3 =x3\n",
    "    for i in range(0,iterations):\n",
    "        print(\"~~~~~~~~~~~~~~~~~~~~~~~~~~~~~~~~~~~~~~~~\")\n",
    "        print(f\"{i+1} iteration\")\n",
    "        print (f\"X1 is {x1}, X2 is {x2}, x3 is {x3}\\n\")\n",
    "        x1 = x1func(x2,x3)\n",
    "        print(\"calculating for x1 using formula\\n\")\n",
    "        #print( f\"(({test.matrixb[0]})-({test.matrixa[0][1]})*({x2})-({test.matrixa[0][2]})*({x3})/{test.matrixa[0][0]} \")\n",
    "        \n",
    "        print (f\"X1 is {x1}, X2 is {x2}, x3 is {x3}\\n\")       \n",
    "        x2 = x2func(x1,x3)\n",
    "        print(\"calculating for x2 using formula\")\n",
    "        print (f\"X1 is {x1}, X2 is {x2}, x3 is {x3}\\n\")       \n",
    "        x3 = x3func(x1,x2)\n",
    "        print(\"calculating for x3 using formula\")\n",
    "        \n",
    "        print (f\"X1 is {x1}, X2 is {x2}, x3 is {x3}\\n\")\n",
    "    return x1,x2,x3\n",
    "\n",
    "    \n",
    "    \n",
    "    "
   ]
  },
  {
   "cell_type": "code",
   "execution_count": 12,
   "metadata": {},
   "outputs": [
    {
     "name": "stdout",
     "output_type": "stream",
     "text": [
      "~~~~~~~~~~~~~~~~~~~~~~~~~~~~~~~~~~~~~~~~\n",
      "1 iteration\n",
      "X1 is 0, X2 is 0, x3 is 0\n",
      "\n",
      "calculating for x1 using formula\n",
      "\n",
      "X1 is 5/8, X2 is 0, x3 is 0\n",
      "\n",
      "calculating for x2 using formula\n",
      "X1 is 5/8, X2 is 35/64, x3 is 0\n",
      "\n",
      "calculating for x3 using formula\n",
      "X1 is 5/8, X2 is 35/64, x3 is 245/512\n",
      "\n",
      "~~~~~~~~~~~~~~~~~~~~~~~~~~~~~~~~~~~~~~~~\n",
      "2 iteration\n",
      "X1 is 5/8, X2 is 35/64, x3 is 245/512\n",
      "\n",
      "calculating for x1 using formula\n",
      "\n",
      "X1 is 2035/4096, X2 is 35/64, x3 is 245/512\n",
      "\n",
      "calculating for x2 using formula\n",
      "X1 is 2035/4096, X2 is 16485/32768, x3 is 245/512\n",
      "\n",
      "calculating for x3 using formula\n",
      "X1 is 2035/4096, X2 is 16485/32768, x3 is 131075/262144\n",
      "\n",
      "~~~~~~~~~~~~~~~~~~~~~~~~~~~~~~~~~~~~~~~~\n",
      "3 iteration\n",
      "X1 is 2035/4096, X2 is 16485/32768, x3 is 131075/262144\n",
      "\n",
      "calculating for x1 using formula\n",
      "\n",
      "X1 is 1047765/2097152, X2 is 16485/32768, x3 is 131075/262144\n",
      "\n",
      "calculating for x2 using formula\n",
      "X1 is 1047765/2097152, X2 is 8389395/16777216, x3 is 131075/262144\n",
      "\n",
      "calculating for x3 using formula\n",
      "X1 is 1047765/2097152, X2 is 8389395/16777216, x3 is 67114565/134217728\n",
      "\n"
     ]
    },
    {
     "data": {
      "image/png": "[encoded data removed]",
      "text/latex": [
       "$\\displaystyle \\left( \\frac{1047765}{2097152}, \\  \\frac{8389395}{16777216}, \\  \\frac{67114565}{134217728}\\right)$"
      ],
      "text/plain": [
       "⎛1047765  8389395    67114565⎞\n",
       "⎜───────, ────────, ─────────⎟\n",
       "⎝2097152  16777216  134217728⎠"
      ]
     },
     "execution_count": 12,
     "metadata": {},
     "output_type": "execute_result"
    }
   ],
   "source": [
    "Gauss_Seidel(0,0,0 , 3)"
   ]
  },
  {
   "cell_type": "code",
   "execution_count": 141,
   "metadata": {},
   "outputs": [],
   "source": [
    "def Jacobi_Iterative(x1,x2,x3 , n):\n",
    "    iterations = n\n",
    "\n",
    "    #Initial Values\n",
    "    x1 = x1\n",
    "    x2 = x2\n",
    "    x3 = x3\n",
    "    \n",
    "    x1new = 0\n",
    "    x2new = 0 \n",
    "    x3new = 0\n",
    "    for i in range(0,iterations):\n",
    "        print(\"~~~~~~~~~~~~~~~~~~~~~~~~~~~~~~~~~~~~~~~~\")\n",
    "        print(f\"{i+1} iteration\")\n",
    "        \n",
    "        \n",
    "        print(\"calculating for x1,x2,x3 using formula\") \n",
    "        x1new = x1func(x2,x3)\n",
    "        x2new = x2func(x1,x3)\n",
    "        x3new = x3func(x1,x2)\n",
    "        \n",
    "        print (f\"X1 is {x1new}, X2 is {x2new}, x3 is {x3new}\\n\")\n",
    "        x1 = x1new\n",
    "        x2 = x2new\n",
    "        x3 = x3new\n",
    "        \n",
    "        \n",
    "    return x1,x2,x3\n"
   ]
  },
  {
   "cell_type": "code",
   "execution_count": 143,
   "metadata": {},
   "outputs": [
    {
     "name": "stdout",
     "output_type": "stream",
     "text": [
      "~~~~~~~~~~~~~~~~~~~~~~~~~~~~~~~~~~~~~~~~\n",
      "1 iteration\n",
      "calculating for x1,x2,x3 using formula\n",
      "X1 is 1.62500000000000, X2 is 1.40000000000000, x3 is 1.50000000000000\n",
      "\n",
      "~~~~~~~~~~~~~~~~~~~~~~~~~~~~~~~~~~~~~~~~\n",
      "2 iteration\n",
      "calculating for x1,x2,x3 using formula\n",
      "X1 is 0.725000000000000, X2 is 0.775000000000000, x3 is 0.725000000000000\n",
      "\n",
      "~~~~~~~~~~~~~~~~~~~~~~~~~~~~~~~~~~~~~~~~\n",
      "3 iteration\n",
      "calculating for x1,x2,x3 using formula\n",
      "X1 is 1.15312500000000, X2 is 1.11000000000000, x3 is 1.12916666666667\n",
      "\n"
     ]
    },
    {
     "data": {
      "text/plain": [
       "(1.15312500000000, 1.11000000000000, 1.12916666666667)"
      ]
     },
     "execution_count": 143,
     "metadata": {},
     "output_type": "execute_result"
    }
   ],
   "source": [
    "Jacobi_Iterative(0,0,0,3)"
   ]
  },
  {
   "cell_type": "code",
   "execution_count": null,
   "metadata": {},
   "outputs": [],
   "source": []
  },
  {
   "cell_type": "code",
   "execution_count": null,
   "metadata": {},
   "outputs": [],
   "source": []
  },
  {
   "cell_type": "code",
   "execution_count": null,
   "metadata": {},
   "outputs": [],
   "source": []
  }
 ],
 "metadata": {
  "kernelspec": {
   "display_name": "Python 3",
   "language": "python",
   "name": "python3"
  },
  "language_info": {
   "codemirror_mode": {
    "name": "ipython",
    "version": 3
   },
   "file_extension": ".py",
   "mimetype": "text/x-python",
   "name": "python",
   "nbconvert_exporter": "python",
   "pygments_lexer": "ipython3",
   "version": "3.8.3"
  }
 },
 "nbformat": 4,
 "nbformat_minor": 2
}
