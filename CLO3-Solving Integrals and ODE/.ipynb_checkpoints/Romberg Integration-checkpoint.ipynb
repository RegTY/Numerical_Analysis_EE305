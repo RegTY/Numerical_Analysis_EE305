{
 "cells": [
  {
   "cell_type": "code",
   "execution_count": 1,
   "metadata": {},
   "outputs": [],
   "source": [
    "%matplotlib notebook\n",
    "import matplotlib\n",
    "from matplotlib.widgets import Slider\n",
    "import seaborn as sns\n",
    "import numpy as np\n",
    "import matplotlib.pyplot as plt\n",
    "sns.set(color_codes=True)\n",
    "sns.set_style(\"darkgrid\")"
   ]
  },
  {
   "cell_type": "code",
   "execution_count": 2,
   "metadata": {},
   "outputs": [],
   "source": [
    "x = np.linspace(0,5,100)\n",
    "def equationf(x):\n",
    "    y = 2000*np.log(140000/(140000-2100*x))-9.8*x\n",
    "    return y\n",
    "\n",
    "#boundaries\n",
    "a = 8\n",
    "b = 30\n",
    "n = 5 # number of trapeziums we want to do\n",
    "ab = np.linspace(a,b,1000)\n",
    "h = (b-a)/n"
   ]
  },
  {
   "cell_type": "code",
   "execution_count": 11,
   "metadata": {},
   "outputs": [
    {
     "data": {
      "text/plain": [
       "array([[4.67296746e-307, 1.69121096e-306, 3.33772792e-307,\n",
       "        6.23047503e-307],\n",
       "       [2.22522597e-306, 1.33511969e-306, 1.37962320e-306,\n",
       "        9.34604358e-307],\n",
       "       [9.79101082e-307, 1.78020576e-306, 1.69119873e-306,\n",
       "        2.22522868e-306],\n",
       "       [1.24611809e-306, 8.06632139e-308, 1.60221208e-306,\n",
       "        2.29178686e-312]])"
      ]
     },
     "execution_count": 11,
     "metadata": {},
     "output_type": "execute_result"
    }
   ],
   "source": [
    "I = np.empty((4,4),  dtype=np.float64)\n",
    "I"
   ]
  },
  {
   "cell_type": "code",
   "execution_count": 14,
   "metadata": {},
   "outputs": [],
   "source": [
    "def trapezoidal(b,a,n):\n",
    "    x0 = a\n",
    "    xn = b\n",
    "    \n",
    "    h = (b-a)/n\n",
    "    summation = 0\n",
    "    xi = a + h\n",
    "    print('~~~~~~~~~~~~~~~~~~~~~~~~~~~~~~~~~~~')\n",
    "    while xi != b:\n",
    "        summation  += equationf(xi)\n",
    "        print(f'xi at {xi} is f({xi}) {equationf(xi)}')\n",
    "        xi += h\n",
    "        \n",
    "    \n",
    "    i = (b-a)*((equationf(x0) + 2*(summation) + equationf(xn))/(2*n))\n",
    "    print(f'f{x0}={equationf(x0)} + 2*{summation} + f{xn}={equationf(x0)} ')\n",
    "    \n",
    "    return i\n",
    "    "
   ]
  },
  {
   "cell_type": "code",
   "execution_count": 15,
   "metadata": {},
   "outputs": [
    {
     "name": "stdout",
     "output_type": "stream",
     "text": [
      "~~~~~~~~~~~~~~~~~~~~~~~~~~~~~~~~~~~\n",
      "~~~~~~~~~~~~~~~~~~~~~~~~~~~~~~~~~~~\n",
      "xi at 19.0 is f(19.0) 484.74547257625863\n",
      "~~~~~~~~~~~~~~~~~~~~~~~~~~~~~~~~~~~\n",
      "xi at 13.5 is f(13.5) 320.246888646275\n",
      "xi at 19.0 is f(19.0) 484.74547257625863\n",
      "xi at 24.5 is f(24.5) 676.0501167609235\n",
      "~~~~~~~~~~~~~~~~~~~~~~~~~~~~~~~~~~~\n",
      "xi at 10.75 is f(10.75) 246.33518139249094\n",
      "xi at 13.5 is f(13.5) 320.246888646275\n",
      "xi at 16.25 is f(16.25) 399.5165392741717\n",
      "xi at 19.0 is f(19.0) 484.74547257625863\n",
      "xi at 21.75 is f(21.75) 576.6423135178602\n",
      "xi at 24.5 is f(24.5) 676.0501167609235\n",
      "xi at 27.25 is f(27.25) 783.9826783519889\n"
     ]
    }
   ],
   "source": [
    "#I = np.array([trapezoidal(b,a, 1) , trapezoidal(b,a, 2), trapezoidal(b,a, 4),trapezoidal(b,a, 8) ])\n",
    "\n",
    "I[0][0] = trapezoidal(b,a, 1) \n",
    "I[0][1] = trapezoidal(b,a, 2)\n",
    "I[0][2] = trapezoidal(b,a, 4)\n",
    "I[0][3] = trapezoidal(b,a, 8)\n",
    "\n"
   ]
  },
  {
   "cell_type": "code",
   "execution_count": 6,
   "metadata": {},
   "outputs": [
    {
     "name": "stdout",
     "output_type": "stream",
     "text": [
      "11868.34818984112\n",
      "11266.374293259403\n",
      "11112.820676369294\n",
      "11074.221297660055\n"
     ]
    }
   ],
   "source": [
    "print(I[0][0])\n",
    "print(I[0][1])\n",
    "print(I[0][2])\n",
    "print(I[0][3])\n"
   ]
  },
  {
   "cell_type": "code",
   "execution_count": 7,
   "metadata": {},
   "outputs": [],
   "source": [
    "def Romberg(j,k):\n",
    "    I2 = I[j-1-1][k] + (I[j-1-1][k] - I[j-1-1][k-1-1 + 1])/3\n",
    "    return I2"
   ]
  },
  {
   "cell_type": "code",
   "execution_count": 8,
   "metadata": {},
   "outputs": [
    {
     "name": "stdout",
     "output_type": "stream",
     "text": [
      "11065.716327732165\n",
      "11061.636137405925\n",
      "11061.354838090308\n"
     ]
    }
   ],
   "source": [
    "I[1][0] = Romberg(2,1)\n",
    "I[1][1] = Romberg(2,2)\n",
    "I[1][2] = Romberg(2,3)\n",
    "\n",
    "print(I[1][0])\n",
    "print(I[1][1])\n",
    "print(I[1][2])\n"
   ]
  },
  {
   "cell_type": "code",
   "execution_count": null,
   "metadata": {},
   "outputs": [],
   "source": []
  },
  {
   "cell_type": "code",
   "execution_count": 9,
   "metadata": {},
   "outputs": [
    {
     "data": {
      "text/plain": [
       "11060.276073963845"
      ]
     },
     "execution_count": 9,
     "metadata": {},
     "output_type": "execute_result"
    }
   ],
   "source": [
    "Romberg(3,1)"
   ]
  },
  {
   "cell_type": "code",
   "execution_count": 10,
   "metadata": {},
   "outputs": [
    {
     "data": {
      "text/plain": [
       "11868.34818984112"
      ]
     },
     "execution_count": 10,
     "metadata": {},
     "output_type": "execute_result"
    }
   ],
   "source": [
    "trapezoidal(b,a, 1) "
   ]
  },
  {
   "cell_type": "code",
   "execution_count": null,
   "metadata": {},
   "outputs": [],
   "source": []
  },
  {
   "cell_type": "code",
   "execution_count": null,
   "metadata": {},
   "outputs": [],
   "source": []
  },
  {
   "cell_type": "code",
   "execution_count": null,
   "metadata": {},
   "outputs": [],
   "source": []
  }
 ],
 "metadata": {
  "kernelspec": {
   "display_name": "Python 3",
   "language": "python",
   "name": "python3"
  },
  "language_info": {
   "codemirror_mode": {
    "name": "ipython",
    "version": 3
   },
   "file_extension": ".py",
   "mimetype": "text/x-python",
   "name": "python",
   "nbconvert_exporter": "python",
   "pygments_lexer": "ipython3",
   "version": "3.8.3"
  }
 },
 "nbformat": 4,
 "nbformat_minor": 2
}
