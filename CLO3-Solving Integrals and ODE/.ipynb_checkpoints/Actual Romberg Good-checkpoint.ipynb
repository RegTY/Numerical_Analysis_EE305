{
 "cells": [
  {
   "cell_type": "code",
   "execution_count": 1,
   "metadata": {},
   "outputs": [],
   "source": [
    "from CLO3Integral import *"
   ]
  },
  {
   "cell_type": "code",
   "execution_count": 2,
   "metadata": {},
   "outputs": [],
   "source": [
    "def equation(x):\n",
    "    y = 2000*np.log(140000/(140000-2100*x))-9.8*x\n",
    "    return y"
   ]
  },
  {
   "cell_type": "code",
   "execution_count": 9,
   "metadata": {},
   "outputs": [],
   "source": [
    "numtest = Integral(equation)\n",
    "a = 8\n",
    "b = 30"
   ]
  },
  {
   "cell_type": "code",
   "execution_count": 10,
   "metadata": {},
   "outputs": [
    {
     "name": "stdout",
     "output_type": "stream",
     "text": [
      "the initial value is 30.0\n",
      "(f(8)=177.26674301977 + 2*0 + f8=177.26674301977)/(2*1) \n",
      "~~~~~~~~~~~~~~~~~~~~~~~~~~~~~~~~~~~\n",
      "I11 is 11868.34818984112\n",
      "~~~~~~~~~~~~~~~~~~~~~~~\n",
      "the initial value is 30.0\n",
      "(f(8)=177.26674301977 + 2*484.74547257625863 + f8=177.26674301977)/(2*2) \n",
      "~~~~~~~~~~~~~~~~~~~~~~~~~~~~~~~~~~~\n",
      "I12 is 11266.374293259403\n",
      "~~~~~~~~~~~~~~~~~~~~~~~\n",
      "the initial value is 30.0\n",
      "(f(8)=177.26674301977 + 2*1481.042477983457 + f8=177.26674301977)/(2*4) \n",
      "~~~~~~~~~~~~~~~~~~~~~~~~~~~~~~~~~~~\n",
      "I14 is 11112.820676369294\n",
      "~~~~~~~~~~~~~~~~~~~~~~~\n"
     ]
    },
    {
     "data": {
      "text/plain": [
       "11065.716327732165"
      ]
     },
     "execution_count": 10,
     "metadata": {},
     "output_type": "execute_result"
    }
   ],
   "source": [
    " numtest.rhomberg(2,1, a = a, b=b)"
   ]
  },
  {
   "cell_type": "code",
   "execution_count": 12,
   "metadata": {},
   "outputs": [
    {
     "name": "stdout",
     "output_type": "stream",
     "text": [
      "the initial value is 30.0\n",
      "(f(8)=177.26674301977 + 2*0 + f8=177.26674301977)/(2*1) \n",
      "~~~~~~~~~~~~~~~~~~~~~~~~~~~~~~~~~~~\n",
      "I11 is 11868.34818984112\n",
      "~~~~~~~~~~~~~~~~~~~~~~~\n",
      "the initial value is 30.0\n",
      "(f(8)=177.26674301977 + 2*484.74547257625863 + f8=177.26674301977)/(2*2) \n",
      "~~~~~~~~~~~~~~~~~~~~~~~~~~~~~~~~~~~\n",
      "I12 is 11266.374293259403\n",
      "~~~~~~~~~~~~~~~~~~~~~~~\n",
      "the initial value is 30.0\n",
      "(f(8)=177.26674301977 + 2*1481.042477983457 + f8=177.26674301977)/(2*4) \n",
      "~~~~~~~~~~~~~~~~~~~~~~~~~~~~~~~~~~~\n",
      "I14 is 11112.820676369294\n",
      "~~~~~~~~~~~~~~~~~~~~~~~\n"
     ]
    }
   ],
   "source": [
    "I21 =  numtest.rhomberg(2,1, a = a, b=b)"
   ]
  },
  {
   "cell_type": "code",
   "execution_count": 13,
   "metadata": {},
   "outputs": [
    {
     "name": "stdout",
     "output_type": "stream",
     "text": [
      "the initial value is 30.0\n",
      "(f(8)=177.26674301977 + 2*0 + f8=177.26674301977)/(2*1) \n",
      "~~~~~~~~~~~~~~~~~~~~~~~~~~~~~~~~~~~\n",
      "I11 is 11868.34818984112\n",
      "~~~~~~~~~~~~~~~~~~~~~~~\n",
      "the initial value is 30.0\n",
      "(f(8)=177.26674301977 + 2*484.74547257625863 + f8=177.26674301977)/(2*2) \n",
      "~~~~~~~~~~~~~~~~~~~~~~~~~~~~~~~~~~~\n",
      "I12 is 11266.374293259403\n",
      "~~~~~~~~~~~~~~~~~~~~~~~\n",
      "the initial value is 30.0\n",
      "(f(8)=177.26674301977 + 2*1481.042477983457 + f8=177.26674301977)/(2*4) \n",
      "~~~~~~~~~~~~~~~~~~~~~~~~~~~~~~~~~~~\n",
      "I14 is 11112.820676369294\n",
      "~~~~~~~~~~~~~~~~~~~~~~~\n"
     ]
    }
   ],
   "source": [
    "I22 = numtest.rhomberg(2,2, a = a, b=b)"
   ]
  },
  {
   "cell_type": "code",
   "execution_count": null,
   "metadata": {},
   "outputs": [],
   "source": []
  }
 ],
 "metadata": {
  "kernelspec": {
   "display_name": "Python 3",
   "language": "python",
   "name": "python3"
  },
  "language_info": {
   "codemirror_mode": {
    "name": "ipython",
    "version": 3
   },
   "file_extension": ".py",
   "mimetype": "text/x-python",
   "name": "python",
   "nbconvert_exporter": "python",
   "pygments_lexer": "ipython3",
   "version": "3.8.3"
  }
 },
 "nbformat": 4,
 "nbformat_minor": 4
}
