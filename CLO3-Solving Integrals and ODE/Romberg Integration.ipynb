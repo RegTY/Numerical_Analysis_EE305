{
 "cells": [
  {
   "cell_type": "code",
   "execution_count": 4,
   "metadata": {},
   "outputs": [],
   "source": [
    "%matplotlib notebook\n",
    "import matplotlib\n",
    "from matplotlib.widgets import Slider\n",
    "import seaborn as sns\n",
    "import numpy as np\n",
    "import matplotlib.pyplot as plt\n",
    "sns.set(color_codes=True)\n",
    "sns.set_style(\"darkgrid\")"
   ]
  },
  {
   "cell_type": "code",
   "execution_count": 5,
   "metadata": {},
   "outputs": [],
   "source": [
    "x = np.linspace(0,5,100)\n",
    "def equationf(x):\n",
    "    y = 2000*np.log(140000/(140000-2100*x))-9.8*x\n",
    "    return y\n",
    "\n",
    "#boundaries\n",
    "a = 10\n",
    "b = 15\n",
    "n = 5 # number of trapeziums we want to do\n",
    "ab = np.linspace(a,b,1000)\n",
    "h = (b-a)/n"
   ]
  },
  {
   "cell_type": "code",
   "execution_count": 6,
   "metadata": {},
   "outputs": [
    {
     "data": {
      "text/plain": [
       "array([[4.67296746e-307, 1.69121096e-306, 3.33772792e-307,\n",
       "        6.23047503e-307],\n",
       "       [2.22522597e-306, 1.33511969e-306, 1.37962320e-306,\n",
       "        9.34604358e-307],\n",
       "       [9.79101082e-307, 1.78020576e-306, 1.69119873e-306,\n",
       "        2.22522868e-306],\n",
       "       [1.24611809e-306, 8.06632139e-308, 1.60221208e-306,\n",
       "        2.29178686e-312]])"
      ]
     },
     "execution_count": 6,
     "metadata": {},
     "output_type": "execute_result"
    }
   ],
   "source": [
    "I = np.empty((4,4),  dtype=np.float64)\n",
    "I"
   ]
  },
  {
   "cell_type": "code",
   "execution_count": 7,
   "metadata": {},
   "outputs": [],
   "source": [
    "def trapezoidal(b,a,n):\n",
    "    x0 = a\n",
    "    xn = b\n",
    "    \n",
    "    h = (b-a)/n\n",
    "    summation = 0\n",
    "    xi = a + h\n",
    "    print('~~~~~~~~~~~~~~~~~~~~~~~~~~~~~~~~~~~')\n",
    "    while xi != b:\n",
    "        summation  += equationf(xi)\n",
    "        print(f'xi at {xi} is f({xi}) {equationf(xi)}')\n",
    "        xi += h\n",
    "        \n",
    "    \n",
    "    i = (b-a)*((equationf(x0) + 2*(summation) + equationf(xn))/(2*n))\n",
    "    print('~~~~~~~~~~~~~~~~~~~~~~~~~~~~~~~~~~~')\n",
    "    print(f'(f({x0})={equationf(x0)} + 2*{summation} + f{xn}={equationf(x0)})/(2*{n}) ')\n",
    "    print('~~~~~~~~~~~~~~~~~~~~~~~~~~~~~~~~~~~')\n",
    "    return i\n",
    "    "
   ]
  },
  {
   "cell_type": "code",
   "execution_count": 8,
   "metadata": {},
   "outputs": [
    {
     "name": "stdout",
     "output_type": "stream",
     "text": [
      "~~~~~~~~~~~~~~~~~~~~~~~~~~~~~~~~~~~\n",
      "~~~~~~~~~~~~~~~~~~~~~~~~~~~~~~~~~~~\n",
      "(f(10)=227.03785899554987 + 2*0 + f15=227.03785899554987)/(2*1) \n",
      "~~~~~~~~~~~~~~~~~~~~~~~~~~~~~~~~~~~\n",
      "~~~~~~~~~~~~~~~~~~~~~~~~~~~~~~~~~~~\n",
      "xi at 12.5 is f(12.5) 292.7787295564891\n",
      "~~~~~~~~~~~~~~~~~~~~~~~~~~~~~~~~~~~\n",
      "(f(10)=227.03785899554987 + 2*292.7787295564891 + f15=227.03785899554987)/(2*2) \n",
      "~~~~~~~~~~~~~~~~~~~~~~~~~~~~~~~~~~~\n",
      "~~~~~~~~~~~~~~~~~~~~~~~~~~~~~~~~~~~\n",
      "xi at 11.25 is f(11.25) 259.3993740241462\n",
      "xi at 12.5 is f(12.5) 292.7787295564891\n",
      "xi at 13.75 is f(13.75) 327.22345755047127\n",
      "~~~~~~~~~~~~~~~~~~~~~~~~~~~~~~~~~~~\n",
      "(f(10)=227.03785899554987 + 2*879.4015611311065 + f15=227.03785899554987)/(2*4) \n",
      "~~~~~~~~~~~~~~~~~~~~~~~~~~~~~~~~~~~\n"
     ]
    }
   ],
   "source": [
    "#I = np.array([trapezoidal(b,a, 1) , trapezoidal(b,a, 2), trapezoidal(b,a, 4),trapezoidal(b,a, 8) ])\n",
    "\n",
    "I[0][0] = trapezoidal(b,a, 1) \n",
    "I[0][1] = trapezoidal(b,a, 2)\n",
    "I[0][2] = trapezoidal(b,a, 4)\n",
    "\n",
    "\n"
   ]
  },
  {
   "cell_type": "code",
   "execution_count": 9,
   "metadata": {},
   "outputs": [
    {
     "name": "stdout",
     "output_type": "stream",
     "text": [
      "1474.555895632825\n",
      "1469.2247717076352\n",
      "1467.8909253220895\n"
     ]
    }
   ],
   "source": [
    "print(I[0][0])\n",
    "print(I[0][1])\n",
    "print(I[0][2])\n",
    "\n"
   ]
  },
  {
   "cell_type": "code",
   "execution_count": 10,
   "metadata": {},
   "outputs": [],
   "source": [
    "def Romberg(j,k):\n",
    "    I2 = I[j-1-1][k] + (I[j-1-1][k] - I[j-1-1][k-1-1 + 1])/3\n",
    "    return I2"
   ]
  },
  {
   "cell_type": "code",
   "execution_count": 11,
   "metadata": {},
   "outputs": [
    {
     "name": "stdout",
     "output_type": "stream",
     "text": [
      "1467.4477303992387\n",
      "1467.446309860241\n",
      "-489.29697510736315\n"
     ]
    }
   ],
   "source": [
    "I[1][0] = Romberg(2,1)\n",
    "I[1][1] = Romberg(2,2)\n",
    "I[1][2] = Romberg(2,3)\n",
    "\n",
    "print(I[1][0])\n",
    "print(I[1][1])\n",
    "print(I[1][2])\n"
   ]
  },
  {
   "cell_type": "code",
   "execution_count": null,
   "metadata": {},
   "outputs": [],
   "source": []
  },
  {
   "cell_type": "code",
   "execution_count": 12,
   "metadata": {},
   "outputs": [
    {
     "data": {
      "text/plain": [
       "1467.4458363472418"
      ]
     },
     "execution_count": 12,
     "metadata": {},
     "output_type": "execute_result"
    }
   ],
   "source": [
    "Romberg(3,1)"
   ]
  },
  {
   "cell_type": "code",
   "execution_count": 13,
   "metadata": {},
   "outputs": [
    {
     "name": "stdout",
     "output_type": "stream",
     "text": [
      "~~~~~~~~~~~~~~~~~~~~~~~~~~~~~~~~~~~\n",
      "~~~~~~~~~~~~~~~~~~~~~~~~~~~~~~~~~~~\n",
      "(f(10)=227.03785899554987 + 2*0 + f15=227.03785899554987)/(2*1) \n",
      "~~~~~~~~~~~~~~~~~~~~~~~~~~~~~~~~~~~\n"
     ]
    },
    {
     "data": {
      "text/plain": [
       "1474.555895632825"
      ]
     },
     "execution_count": 13,
     "metadata": {},
     "output_type": "execute_result"
    }
   ],
   "source": [
    "trapezoidal(b,a, 1) "
   ]
  },
  {
   "cell_type": "code",
   "execution_count": null,
   "metadata": {},
   "outputs": [],
   "source": []
  },
  {
   "cell_type": "code",
   "execution_count": null,
   "metadata": {},
   "outputs": [],
   "source": []
  },
  {
   "cell_type": "code",
   "execution_count": null,
   "metadata": {},
   "outputs": [],
   "source": []
  },
  {
   "cell_type": "code",
   "execution_count": null,
   "metadata": {},
   "outputs": [],
   "source": []
  },
  {
   "cell_type": "code",
   "execution_count": null,
   "metadata": {},
   "outputs": [],
   "source": []
  }
 ],
 "metadata": {
  "kernelspec": {
   "display_name": "Python 3",
   "language": "python",
   "name": "python3"
  },
  "language_info": {
   "codemirror_mode": {
    "name": "ipython",
    "version": 3
   },
   "file_extension": ".py",
   "mimetype": "text/x-python",
   "name": "python",
   "nbconvert_exporter": "python",
   "pygments_lexer": "ipython3",
   "version": "3.8.3"
  }
 },
 "nbformat": 4,
 "nbformat_minor": 2
}
