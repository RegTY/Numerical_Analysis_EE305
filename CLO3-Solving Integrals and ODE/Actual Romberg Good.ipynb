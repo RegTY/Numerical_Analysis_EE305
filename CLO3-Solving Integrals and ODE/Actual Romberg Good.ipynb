{
 "cells": [
  {
   "cell_type": "code",
   "execution_count": 36,
   "metadata": {},
   "outputs": [],
   "source": [
    "from CLO3Integral import *"
   ]
  },
  {
   "cell_type": "code",
   "execution_count": 68,
   "metadata": {},
   "outputs": [],
   "source": [
    "def equation(x):\n",
    "    y = 2000*np.log(140000/(140000-2100*x))-9.8*x\n",
    "    return y"
   ]
  },
  {
   "cell_type": "code",
   "execution_count": 86,
   "metadata": {},
   "outputs": [],
   "source": [
    "numtest = Integral(equation)\n",
    "a = 8\n",
    "b = 30"
   ]
  },
  {
   "cell_type": "code",
   "execution_count": 87,
   "metadata": {},
   "outputs": [],
   "source": [
    "I = np.empty((10,10),  dtype=np.float64)"
   ]
  },
  {
   "cell_type": "code",
   "execution_count": 88,
   "metadata": {},
   "outputs": [
    {
     "name": "stdout",
     "output_type": "stream",
     "text": [
      "the initial value is 30.0\n",
      "(f(8)=177.26674301977 + 2*0 + f8=177.26674301977)/(2*1) \n",
      "~~~~~~~~~~~~~~~~~~~~~~~~~~~~~~~~~~~\n",
      "the initial value is 30.0\n",
      "(f(8)=177.26674301977 + 2*484.74547257625863 + f8=177.26674301977)/(2*2) \n",
      "~~~~~~~~~~~~~~~~~~~~~~~~~~~~~~~~~~~\n",
      "the initial value is 30.0\n",
      "(f(8)=177.26674301977 + 2*1481.042477983457 + f8=177.26674301977)/(2*4) \n",
      "~~~~~~~~~~~~~~~~~~~~~~~~~~~~~~~~~~~\n",
      "the initial value is 30.0\n",
      "(f(8)=177.26674301977 + 2*3487.519190519969 + f8=177.26674301977)/(2*8) \n",
      "~~~~~~~~~~~~~~~~~~~~~~~~~~~~~~~~~~~\n",
      "11868.34818984112\n",
      "11266.374293259403\n",
      "11112.820676369294\n",
      "11074.221297660055\n"
     ]
    }
   ],
   "source": [
    "## Solve I11 I12 I13 I14 .... \n",
    "I[0][0] = numtest.trapezoidalRule(b= b,a=a, n=1) \n",
    "I[0][1] = numtest.trapezoidalRule(b=b,a=a, n=2)\n",
    "I[0][2] = numtest.trapezoidalRule(b=b,a=a, n=4)\n",
    "I[0][3] = numtest.trapezoidalRule(b=b,a=a, n=8)\n",
    "print(I[0][0])\n",
    "print(I[0][1])\n",
    "print(I[0][2])\n",
    "print(I[0][3])"
   ]
  },
  {
   "cell_type": "code",
   "execution_count": 102,
   "metadata": {},
   "outputs": [],
   "source": [
    "def Romberg(j,k):\n",
    "    print(f\"using I{j-1}{k+1} as {I[j-1-1][k]}\")\n",
    "    print(f\"using I{j-1}{k} as {I[j-1-1][k-1-1 + 1]}\")\n",
    "    print(f\"{I[j-1-1][k]} + ({I[j-1-1][k]} - { I[j-1-1][k-1-1 + 1]} / {(np.power(4,j-1)-1)}) + \")\n",
    "    I2 = I[j-1-1][k] + (I[j-1-1][k] - I[j-1-1][k-1-1 + 1])/(np.power(4,j-1)-1)\n",
    "    print(I2)\n",
    "    return I2"
   ]
  },
  {
   "cell_type": "code",
   "execution_count": 104,
   "metadata": {},
   "outputs": [
    {
     "name": "stdout",
     "output_type": "stream",
     "text": [
      "using I12 as 11266.374293259403\n",
      "using I11 as 11868.34818984112\n",
      "11266.374293259403 + (11266.374293259403 - 11868.34818984112 / 3) + \n",
      "11065.716327732165\n",
      "~~~~~~~~~~~~~\n",
      "using I13 as 11112.820676369294\n",
      "using I12 as 11266.374293259403\n",
      "11112.820676369294 + (11112.820676369294 - 11266.374293259403 / 3) + \n",
      "11061.636137405925\n",
      "~~~~~~~~~~~~~\n",
      "using I14 as 11074.221297660055\n",
      "using I13 as 11112.820676369294\n",
      "11074.221297660055 + (11074.221297660055 - 11112.820676369294 / 3) + \n",
      "11061.354838090308\n",
      "~~~~~~~~~~~~~\n",
      "using I15 as 7.058911002472248e-278\n",
      "using I14 as 11074.221297660055\n",
      "7.058911002472248e-278 + (7.058911002472248e-278 - 11074.221297660055 / 3) + \n",
      "-3691.407099220018\n",
      "~~~~~~~~~~~~~\n",
      "11065.716327732165\n",
      "11061.636137405925\n",
      "11061.354838090308\n",
      "-3691.407099220018\n"
     ]
    }
   ],
   "source": [
    "\n",
    "I[1][0] = Romberg(2,1)\n",
    "print(\"~~~~~~~~~~~~~\")\n",
    "I[1][1] = Romberg(2,2)\n",
    "print(\"~~~~~~~~~~~~~\")\n",
    "I[1][2] = Romberg(2,3)\n",
    "print(\"~~~~~~~~~~~~~\")\n",
    "I[1][3] = Romberg(2,4)\n",
    "print(\"~~~~~~~~~~~~~\")\n",
    "print(I[1][0])\n",
    "print(I[1][1])\n",
    "print(I[1][2])\n",
    "print(I[1][3])"
   ]
  },
  {
   "cell_type": "code",
   "execution_count": 106,
   "metadata": {},
   "outputs": [
    {
     "name": "stdout",
     "output_type": "stream",
     "text": [
      "using I22 as 11061.636137405925\n",
      "using I21 as 11065.716327732165\n",
      "11061.636137405925 + (11061.636137405925 - 11065.716327732165 / 15) + \n",
      "11061.36412471751\n",
      "~~~~~~~~~~~~~\n",
      "using I23 as 11061.354838090308\n",
      "using I22 as 11061.636137405925\n",
      "11061.354838090308 + (11061.354838090308 - 11061.636137405925 / 15) + \n",
      "11061.3360848026\n",
      "~~~~~~~~~~~~~\n",
      "11061.36412471751\n",
      "11061.3360848026\n"
     ]
    }
   ],
   "source": [
    "I[2][0] = Romberg(3,1)\n",
    "print(\"~~~~~~~~~~~~~\")\n",
    "I[2][1] = Romberg(3,2)\n",
    "print(\"~~~~~~~~~~~~~\")\n",
    "print(I[2][0])\n",
    "print(I[2][1])"
   ]
  },
  {
   "cell_type": "code",
   "execution_count": 107,
   "metadata": {},
   "outputs": [
    {
     "name": "stdout",
     "output_type": "stream",
     "text": [
      "using I32 as 11061.3360848026\n",
      "using I31 as 11061.36412471751\n",
      "11061.3360848026 + (11061.3360848026 - 11061.36412471751 / 63) + \n",
      "11061.335639724586\n",
      "11061.335639724586\n"
     ]
    }
   ],
   "source": [
    "I[3][0] = Romberg(4,1)\n",
    "print(I[3][0])"
   ]
  },
  {
   "cell_type": "code",
   "execution_count": null,
   "metadata": {},
   "outputs": [],
   "source": []
  },
  {
   "cell_type": "code",
   "execution_count": null,
   "metadata": {},
   "outputs": [],
   "source": []
  }
 ],
 "metadata": {
  "kernelspec": {
   "display_name": "Python 3",
   "language": "python",
   "name": "python3"
  },
  "language_info": {
   "codemirror_mode": {
    "name": "ipython",
    "version": 3
   },
   "file_extension": ".py",
   "mimetype": "text/x-python",
   "name": "python",
   "nbconvert_exporter": "python",
   "pygments_lexer": "ipython3",
   "version": "3.8.3"
  }
 },
 "nbformat": 4,
 "nbformat_minor": 4
}
