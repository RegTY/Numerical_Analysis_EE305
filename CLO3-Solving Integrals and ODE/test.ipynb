{
 "cells": [
  {
   "cell_type": "code",
   "execution_count": 109,
   "metadata": {},
   "outputs": [],
   "source": [
    "%matplotlib notebook\n",
    "import matplotlib\n",
    "import sympy as sp\n",
    "from matplotlib.widgets import Slider\n",
    "import seaborn as sns\n",
    "import numpy as np\n",
    "import matplotlib.pyplot as plt\n",
    "sns.set(color_codes=True)\n",
    "sns.set_style(\"darkgrid\")\n",
    "sp.interactive.init_printing(use_latex=True)"
   ]
  },
  {
   "cell_type": "code",
   "execution_count": 110,
   "metadata": {},
   "outputs": [],
   "source": [
    "plt.ioff()\n",
    "fig , ax = plt.subplots()\n"
   ]
  },
  {
   "cell_type": "code",
   "execution_count": 119,
   "metadata": {},
   "outputs": [],
   "source": [
    "x= 5"
   ]
  },
  {
   "cell_type": "code",
   "execution_count": 120,
   "metadata": {},
   "outputs": [],
   "source": [
    "P = 0.2 + 25*x - 200*x**2 + 675*x**3 -900*x**4 +400*x**5"
   ]
  },
  {
   "cell_type": "code",
   "execution_count": null,
   "metadata": {},
   "outputs": [],
   "source": []
  },
  {
   "cell_type": "code",
   "execution_count": 146,
   "metadata": {},
   "outputs": [],
   "source": [
    "# def equation(x):\n",
    "#     y =  0.2 + 25*x - 200*x**2 + 675*x**3 -900*x**4 +400*x**5\n",
    "#     return y\n",
    "\n",
    "# def equation(x):\n",
    "#     y =  6 + 3*np.cos(x)\n",
    "#     return y\n",
    "\n",
    "def equation(xval):\n",
    "    x = sp.symbols('x')\n",
    "    y =  6 + 3*sp.cos(x)\n",
    "    y = sp.Subs(y, x , xval).doit()\n",
    "    return sp.N(y)"
   ]
  },
  {
   "cell_type": "code",
   "execution_count": 156,
   "metadata": {},
   "outputs": [],
   "source": [
    "def differential(xval):\n",
    "    x = sp.symbols('x')\n",
    "    y = sp.Subs(sp.diff(sp.sympify(equation(x)) , x, x),x,xval).doit()\n",
    "    return sp.N(y)"
   ]
  },
  {
   "cell_type": "code",
   "execution_count": 157,
   "metadata": {},
   "outputs": [
    {
     "data": {
      "image/png": "[encoded data removed]",
      "text/latex": [
       "$\\displaystyle 6.85098655638968$"
      ],
      "text/plain": [
       "6.85098655638968"
      ]
     },
     "execution_count": 157,
     "metadata": {},
     "output_type": "execute_result"
    }
   ],
   "source": [
    "equation(5)"
   ]
  },
  {
   "cell_type": "code",
   "execution_count": 158,
   "metadata": {},
   "outputs": [
    {
     "data": {
      "image/png": "[encoded data removed]",
      "text/latex": [
       "$\\displaystyle -0.850986556389679$"
      ],
      "text/plain": [
       "-0.850986556389679"
      ]
     },
     "metadata": {},
     "output_type": "display_data"
    }
   ],
   "source": [
    "display(differential(5))"
   ]
  },
  {
   "cell_type": "code",
   "execution_count": 162,
   "metadata": {},
   "outputs": [
    {
     "data": {
      "image/png": "[encoded data removed]",
      "text/latex": [
       "$\\displaystyle - 3.0 \\sin{\\left(x \\right)}$"
      ],
      "text/plain": [
       "-3.0⋅sin(x)"
      ]
     },
     "execution_count": 162,
     "metadata": {},
     "output_type": "execute_result"
    }
   ],
   "source": [
    "x = sp.symbols('x')\n",
    "sp.diff(sp.sympify(equation(x) , x, x))"
   ]
  },
  {
   "cell_type": "code",
   "execution_count": null,
   "metadata": {},
   "outputs": [],
   "source": []
  }
 ],
 "metadata": {
  "kernelspec": {
   "display_name": "Python 3",
   "language": "python",
   "name": "python3"
  },
  "language_info": {
   "codemirror_mode": {
    "name": "ipython",
    "version": 3
   },
   "file_extension": ".py",
   "mimetype": "text/x-python",
   "name": "python",
   "nbconvert_exporter": "python",
   "pygments_lexer": "ipython3",
   "version": "3.8.3"
  }
 },
 "nbformat": 4,
 "nbformat_minor": 4
}
