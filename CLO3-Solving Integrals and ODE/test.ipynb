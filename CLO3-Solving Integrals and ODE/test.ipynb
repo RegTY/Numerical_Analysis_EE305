{
 "metadata": {
  "language_info": {
   "codemirror_mode": {
    "name": "ipython",
    "version": 3
   },
   "file_extension": ".py",
   "mimetype": "text/x-python",
   "name": "python",
   "nbconvert_exporter": "python",
   "pygments_lexer": "ipython3",
   "version": "3.8.3-final"
  },
  "orig_nbformat": 2,
  "kernelspec": {
   "name": "python3",
   "display_name": "Python 3.8.3 64-bit (conda)",
   "metadata": {
    "interpreter": {
     "hash": "37eb40c3388cfde35488e2d005b0d69ca91ddeff8a429754d4da636d3f888e5e"
    }
   }
  }
 },
 "nbformat": 4,
 "nbformat_minor": 2,
 "cells": [
  {
   "cell_type": "code",
   "execution_count": 13,
   "metadata": {},
   "outputs": [],
   "source": [
    "from CLO3Integral import *"
   ]
  },
  {
   "cell_type": "code",
   "execution_count": 14,
   "metadata": {},
   "outputs": [],
   "source": [
    "data = Integral(numIterations=30, upper=0.8, lower=0)"
   ]
  },
  {
   "cell_type": "code",
   "execution_count": 15,
   "metadata": {},
   "outputs": [
    {
     "output_type": "stream",
     "name": "stdout",
     "text": [
      "           x         y\n0   0.000000  0.200000\n1   0.026667  0.736795\n2   0.053333  1.059735\n3   0.080000  1.230047\n4   0.106667  1.299326\n5   0.133333  1.310189\n6   0.160000  1.296919\n7   0.186667  1.286111\n8   0.213333  1.297324\n9   0.240000  1.343721\n10  0.266667  1.432724\n11  0.293333  1.566657\n12  0.320000  1.743393\n13  0.346667  1.957003\n14  0.373333  2.198403\n15  0.400000  2.456000\n16  0.426667  2.716340\n17  0.453333  2.964756\n18  0.480000  3.186015\n19  0.506667  3.364963\n20  0.533333  3.487177\n21  0.560000  3.539607\n22  0.586667  3.511227\n23  0.613333  3.393681\n24  0.640000  3.181929\n25  0.666667  2.874897\n26  0.693333  2.476122\n27  0.720000  1.994401\n28  0.746667  1.444436\n29  0.773333  0.847483\n30  0.800000  0.232000\n1.6405279394238719\n"
     ]
    }
   ],
   "source": [
    "print(data.simpson13())"
   ]
  },
  {
   "cell_type": "code",
   "execution_count": 16,
   "metadata": {},
   "outputs": [
    {
     "output_type": "stream",
     "name": "stdout",
     "text": [
      "           x         y\n0   0.000000  0.200000\n1   0.026667  0.736795\n2   0.053333  1.059735\n3   0.080000  1.230047\n4   0.106667  1.299326\n5   0.133333  1.310189\n6   0.160000  1.296919\n7   0.186667  1.286111\n8   0.213333  1.297324\n9   0.240000  1.343721\n10  0.266667  1.432724\n11  0.293333  1.566657\n12  0.320000  1.743393\n13  0.346667  1.957003\n14  0.373333  2.198403\n15  0.400000  2.456000\n16  0.426667  2.716340\n17  0.453333  2.964756\n18  0.480000  3.186015\n19  0.506667  3.364963\n20  0.533333  3.487177\n21  0.560000  3.539607\n22  0.586667  3.511227\n23  0.613333  3.393681\n24  0.640000  3.181929\n25  0.666667  2.874897\n26  0.693333  2.476122\n27  0.720000  1.994401\n28  0.746667  1.444436\n29  0.773333  0.847483\n30  0.800000  0.232000\n1.8455939318518557\n"
     ]
    }
   ],
   "source": [
    "print(data.simpson38())"
   ]
  },
  {
   "cell_type": "code",
   "execution_count": 12,
   "metadata": {},
   "outputs": [
    {
     "output_type": "stream",
     "name": "stdout",
     "text": [
      "30.0\n30.013333333333588\n30.006666666667048\n"
     ]
    },
    {
     "output_type": "execute_result",
     "data": {
      "text/plain": [
       "6381241723343.512"
      ]
     },
     "metadata": {},
     "execution_count": 12
    }
   ],
   "source": [
    "data.rhomberg(2,2,30, 8)"
   ]
  },
  {
   "cell_type": "code",
   "execution_count": null,
   "metadata": {},
   "outputs": [],
   "source": []
  }
 ]
}