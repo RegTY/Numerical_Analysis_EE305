{
 "cells": [
  {
   "cell_type": "code",
   "execution_count": 3,
   "metadata": {},
   "outputs": [],
   "source": [
    "%matplotlib notebook\n",
    "import matplotlib\n",
    "from matplotlib.widgets import Slider\n",
    "import seaborn as sns\n",
    "import numpy as np\n",
    "import matplotlib.pyplot as plt\n",
    "sns.set(color_codes=True)\n",
    "sns.set_style(\"darkgrid\")"
   ]
  },
  {
   "cell_type": "code",
   "execution_count": 188,
   "metadata": {},
   "outputs": [],
   "source": [
    "x = np.linspace(0,5,100)\n",
    "def equationf(x):\n",
    "    y = 1/(1+x**5)\n",
    "    return y\n",
    "\n",
    "#boundaries\n",
    "a = 0\n",
    "b = 1\n",
    "n = 5 # number of trapeziums we want to do\n",
    "ab = np.linspace(a,b,1000)\n",
    "h = (b-a)/n"
   ]
  },
  {
   "cell_type": "code",
   "execution_count": 189,
   "metadata": {},
   "outputs": [
    {
     "data": {
      "text/plain": [
       "array([[-7.50000000e-01, -8.59848485e-01, -8.81732432e-01,\n",
       "         7.19021904e-05],\n",
       "       [ 1.10657163e+04,  1.10616361e+04,  1.10613548e+04,\n",
       "         0.00000000e+00],\n",
       "       [ 0.00000000e+00,  1.10602761e+04,  0.00000000e+00,\n",
       "         0.00000000e+00],\n",
       "       [ 0.00000000e+00,  0.00000000e+00,  0.00000000e+00,\n",
       "         0.00000000e+00]])"
      ]
     },
     "execution_count": 189,
     "metadata": {},
     "output_type": "execute_result"
    }
   ],
   "source": [
    "I = np.empty((4,4),  dtype=np.float64)\n",
    "I"
   ]
  },
  {
   "cell_type": "code",
   "execution_count": 218,
   "metadata": {},
   "outputs": [],
   "source": [
    "def trapezoidal(b,a,n):\n",
    "    x0 = a\n",
    "    xn = b\n",
    "    \n",
    "    h = (b-a)/n\n",
    "    summation = 0\n",
    "    xi = a + h\n",
    "    while xi != b:\n",
    "        summation  += equationf(xi)\n",
    "        xi += h\n",
    "        \n",
    "        \n",
    "    \n",
    "    i = (b-a)*((equationf(x0) + 2*(summation) + equationf(xn))/(2*n))\n",
    "    \n",
    "    return i\n",
    "    "
   ]
  },
  {
   "cell_type": "code",
   "execution_count": 219,
   "metadata": {},
   "outputs": [],
   "source": [
    "#I = np.array([trapezoidal(b,a, 1) , trapezoidal(b,a, 2), trapezoidal(b,a, 4),trapezoidal(b,a, 8) ])\n",
    "\n",
    "I[0][0] = trapezoidal(b,a, 1) \n",
    "I[0][1] = trapezoidal(b,a, 2)\n",
    "I[0][2] = trapezoidal(b,a, 4)\n"
   ]
  },
  {
   "cell_type": "code",
   "execution_count": 220,
   "metadata": {},
   "outputs": [
    {
     "name": "stdout",
     "output_type": "stream",
     "text": [
      "0.75\n",
      "0.8598484848484849\n",
      "0.8817324315400721\n"
     ]
    }
   ],
   "source": [
    "print(I[0][0])\n",
    "print(I[0][1])\n",
    "print(I[0][2])\n"
   ]
  },
  {
   "cell_type": "code",
   "execution_count": 231,
   "metadata": {},
   "outputs": [],
   "source": [
    "def Romberg(j,k):\n",
    "    I2 = I[j-1-1][k] + (I[j-1-1][k] - I[j-1-1][k-1-1 + 1])/3\n",
    "    return I2"
   ]
  },
  {
   "cell_type": "code",
   "execution_count": 232,
   "metadata": {},
   "outputs": [
    {
     "name": "stdout",
     "output_type": "stream",
     "text": [
      "0.8964646464646465\n",
      "0.8890270804372679\n"
     ]
    }
   ],
   "source": [
    "I[1][0] = Romberg(2,1)\n",
    "I[1][1] = Romberg(2,2)\n",
    "I[1][2] = Romberg(2,3)\n",
    "\n",
    "print(I[1][0])\n",
    "print(I[1][1])\n"
   ]
  },
  {
   "cell_type": "code",
   "execution_count": null,
   "metadata": {},
   "outputs": [],
   "source": []
  },
  {
   "cell_type": "code",
   "execution_count": 233,
   "metadata": {},
   "outputs": [
    {
     "data": {
      "text/plain": [
       "0.886547891761475"
      ]
     },
     "execution_count": 233,
     "metadata": {},
     "output_type": "execute_result"
    }
   ],
   "source": [
    "Romberg(3,1)"
   ]
  },
  {
   "cell_type": "code",
   "execution_count": 227,
   "metadata": {},
   "outputs": [
    {
     "data": {
      "text/plain": [
       "0.75"
      ]
     },
     "execution_count": 227,
     "metadata": {},
     "output_type": "execute_result"
    }
   ],
   "source": [
    "trapezoidal(b,a, 1) "
   ]
  },
  {
   "cell_type": "code",
   "execution_count": null,
   "metadata": {},
   "outputs": [],
   "source": []
  },
  {
   "cell_type": "code",
   "execution_count": null,
   "metadata": {},
   "outputs": [],
   "source": []
  }
 ],
 "metadata": {
  "kernelspec": {
   "display_name": "Python 3",
   "language": "python",
   "name": "python3"
  },
  "language_info": {
   "codemirror_mode": {
    "name": "ipython",
    "version": 3
   },
   "file_extension": ".py",
   "mimetype": "text/x-python",
   "name": "python",
   "nbconvert_exporter": "python",
   "pygments_lexer": "ipython3",
   "version": "3.7.4"
  }
 },
 "nbformat": 4,
 "nbformat_minor": 2
}
