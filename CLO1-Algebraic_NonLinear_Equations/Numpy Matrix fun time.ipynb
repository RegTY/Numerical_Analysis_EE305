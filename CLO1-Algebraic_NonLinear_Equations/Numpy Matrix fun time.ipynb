{
 "cells": [
  {
   "cell_type": "code",
   "execution_count": 53,
   "metadata": {},
   "outputs": [],
   "source": [
    "import numpy as np\n",
    "import scipy \n",
    "import pprint\n",
    "from scipy import linalg\n",
    "from sympy import *\n",
    "\n"
   ]
  },
  {
   "cell_type": "markdown",
   "metadata": {},
   "source": [
    "Gauss Elimination Method"
   ]
  },
  {
   "cell_type": "code",
   "execution_count": 637,
   "metadata": {},
   "outputs": [],
   "source": [
    "x1,x2 ,x3 = symbols('x1, x2, x3')\n",
    "\n",
    "#Matrix AB\n",
    "matrixa = Matrix(([5,5, 2, 12],[2, 4, 5, 2],[39, 43, 45, 74]))\n",
    "\n"
   ]
  },
  {
   "cell_type": "code",
   "execution_count": 638,
   "metadata": {},
   "outputs": [],
   "source": [
    "matrixa0 = matrixa.row(0)\n",
    "matrixa1 = matrixa.row(1) - matrixa.row(1).col(0)/matrixa.row(0).col(0)*matrixa.row(0)\n",
    "matrixa2 =matrixa.row(2) - matrixa.row(2).col(0)/matrixa.row(0).col(0)*matrixa.row(0)\n",
    "matrixb = Matrix((matrixa0,matrixa1, matrixa2))\n",
    "\n",
    "matrixb0 = matrixb.row(0)\n",
    "matrixb1 = matrixb.row(1)\n",
    "matrixb2 = matrixb.row(2) - matrixb.row(2).col(1)/matrixb.row(1).col(1)*matrixb.row(1)\n",
    "matrixc = Matrix((matrixb0,matrixb1, matrixb2))"
   ]
  },
  {
   "cell_type": "code",
   "execution_count": 142,
   "metadata": {},
   "outputs": [
    {
     "data": {
      "text/latex": [
       "$\\displaystyle \\left[\\begin{matrix}5 & 5 & 2 & 12\\\\0 & 2 & \\frac{21}{5} & - \\frac{14}{5}\\\\0 & 4 & \\frac{147}{5} & - \\frac{98}{5}\\end{matrix}\\right]$"
      ],
      "text/plain": [
       "Matrix([\n",
       "[5, 5,     2,    12],\n",
       "[0, 2,  21/5, -14/5],\n",
       "[0, 4, 147/5, -98/5]])"
      ]
     },
     "execution_count": 142,
     "metadata": {},
     "output_type": "execute_result"
    }
   ],
   "source": [
    "matrixb"
   ]
  },
  {
   "cell_type": "code",
   "execution_count": 143,
   "metadata": {},
   "outputs": [
    {
     "data": {
      "text/latex": [
       "$\\displaystyle \\left[\\begin{matrix}5 & 5 & 2 & 12\\\\0 & 2 & \\frac{21}{5} & - \\frac{14}{5}\\\\0 & 0 & 21 & -14\\end{matrix}\\right]$"
      ],
      "text/plain": [
       "Matrix([\n",
       "[5, 5,    2,    12],\n",
       "[0, 2, 21/5, -14/5],\n",
       "[0, 0,   21,   -14]])"
      ]
     },
     "execution_count": 143,
     "metadata": {},
     "output_type": "execute_result"
    }
   ],
   "source": [
    "matrixc"
   ]
  },
  {
   "cell_type": "code",
   "execution_count": 139,
   "metadata": {},
   "outputs": [
    {
     "data": {
      "text/latex": [
       "$\\displaystyle \\left[\\begin{matrix}5 & 5 & 2 & 12\\\\0 & 2 & \\frac{21}{5} & - \\frac{14}{5}\\\\0 & 4 & \\frac{147}{5} & - \\frac{98}{5}\\end{matrix}\\right]$"
      ],
      "text/plain": [
       "Matrix([\n",
       "[5, 5,     2,    12],\n",
       "[0, 2,  21/5, -14/5],\n",
       "[0, 4, 147/5, -98/5]])"
      ]
     },
     "execution_count": 139,
     "metadata": {},
     "output_type": "execute_result"
    }
   ],
   "source": [
    "matrixb"
   ]
  },
  {
   "cell_type": "code",
   "execution_count": 59,
   "metadata": {},
   "outputs": [
    {
     "data": {
      "text/latex": [
       "$\\displaystyle \\left\\{\\left( \\frac{8}{3}, \\  0, \\  - \\frac{2}{3}\\right)\\right\\}$"
      ],
      "text/plain": [
       "{(8/3, 0, -2/3)}"
      ]
     },
     "execution_count": 59,
     "metadata": {},
     "output_type": "execute_result"
    }
   ],
   "source": [
    "linsolve(matrixa, (x1,x2,x3))"
   ]
  },
  {
   "cell_type": "markdown",
   "metadata": {},
   "source": [
    "LU Decompusition Method\n",
    "A more nightmarish convoluted method which involves \n",
    "[A][X]=[B]"
   ]
  },
  {
   "cell_type": "code",
   "execution_count": 617,
   "metadata": {},
   "outputs": [],
   "source": [
    "#Matrix A\n",
    "eqn2 = [0, 8, 2, -7]\n",
    "eqn1 = [3, 5, 2, 8] \n",
    "eqn3 = [6, 2, 8 , 26]\n",
    "\n",
    "\n",
    "#matrixA = Matrix((eqn1,eqn2,eqn3))\n",
    "#matrixB = Matrix((12, 2, 74))\n",
    "matrixa = scipy.array([eqn1,eqn2,eqn3])\n",
    "matrixA = Matrix((matrixa[0][0:3],matrixa[1][0:3],matrixa[2][0:3]))\n",
    "matrixb =np.array([eqn1[-1],eqn2[-1],eqn3[-1]])\n",
    "matrixB = Matrix(matrixb)"
   ]
  },
  {
   "cell_type": "code",
   "execution_count": 618,
   "metadata": {},
   "outputs": [
    {
     "data": {
      "text/latex": [
       "$\\displaystyle \\left\\{\\left( 4, \\  -1, \\  \\frac{1}{2}\\right)\\right\\}$"
      ],
      "text/plain": [
       "{(4, -1, 1/2)}"
      ]
     },
     "execution_count": 618,
     "metadata": {},
     "output_type": "execute_result"
    }
   ],
   "source": [
    "# matrixL = Matrix(matrixA.row(0))\n",
    "# matrixA.row(1) - matrixA.row(0).col(1)\n",
    "# matrixL\n",
    "\n",
    "linsolve(Matrix(matrixa), (x1,x2,x3))"
   ]
  },
  {
   "cell_type": "code",
   "execution_count": 619,
   "metadata": {},
   "outputs": [
    {
     "data": {
      "text/latex": [
       "$\\displaystyle \\left[\\begin{matrix}3 & 5 & 2\\\\0 & 8 & 2\\\\6 & 2 & 8\\end{matrix}\\right]$"
      ],
      "text/plain": [
       "Matrix([\n",
       "[3, 5, 2],\n",
       "[0, 8, 2],\n",
       "[6, 2, 8]])"
      ]
     },
     "execution_count": 619,
     "metadata": {},
     "output_type": "execute_result"
    }
   ],
   "source": [
    "matrixA"
   ]
  },
  {
   "cell_type": "code",
   "execution_count": 621,
   "metadata": {},
   "outputs": [
    {
     "data": {
      "text/latex": [
       "$\\displaystyle \\left[\\begin{matrix}8\\\\-7\\\\26\\end{matrix}\\right]$"
      ],
      "text/plain": [
       "Matrix([\n",
       "[ 8],\n",
       "[-7],\n",
       "[26]])"
      ]
     },
     "execution_count": 621,
     "metadata": {},
     "output_type": "execute_result"
    }
   ],
   "source": [
    "matrixB"
   ]
  },
  {
   "cell_type": "code",
   "execution_count": 627,
   "metadata": {},
   "outputs": [
    {
     "data": {
      "text/latex": [
       "$\\displaystyle \\left[\\begin{matrix}1.0 & 0.0 & 0.0\\\\0.0 & 1.0 & 0.0\\\\2.0 & -1.0 & 1.0\\end{matrix}\\right]$"
      ],
      "text/plain": [
       "Matrix([\n",
       "[1.0,  0.0, 0.0],\n",
       "[0.0,  1.0, 0.0],\n",
       "[2.0, -1.0, 1.0]])"
      ]
     },
     "execution_count": 627,
     "metadata": {},
     "output_type": "execute_result"
    }
   ],
   "source": [
    "matrixu, l1,l2,l3 = uDecompost(matrixA)\n",
    "matrixu"
   ]
  },
  {
   "cell_type": "code",
   "execution_count": 628,
   "metadata": {},
   "outputs": [
    {
     "data": {
      "text/latex": [
       "$\\displaystyle \\left[\\begin{matrix}3 & 5 & 2\\\\0 & 8 & 2\\\\0 & 0 & 6\\end{matrix}\\right]$"
      ],
      "text/plain": [
       "Matrix([\n",
       "[3, 5, 2],\n",
       "[0, 8, 2],\n",
       "[0, 0, 6]])"
      ]
     },
     "execution_count": 628,
     "metadata": {},
     "output_type": "execute_result"
    }
   ],
   "source": [
    "matrixl = lDecompost(l1,l2,l3)\n",
    "matrixl"
   ]
  },
  {
   "cell_type": "code",
   "execution_count": 630,
   "metadata": {},
   "outputs": [
    {
     "data": {
      "text/latex": [
       "$\\displaystyle \\left[\\begin{matrix}8.0\\\\-7.0\\\\3.0\\end{matrix}\\right]$"
      ],
      "text/plain": [
       "Matrix([\n",
       "[ 8.0],\n",
       "[-7.0],\n",
       "[ 3.0]])"
      ]
     },
     "execution_count": 630,
     "metadata": {},
     "output_type": "execute_result"
    }
   ],
   "source": [
    "matrixd = linalg.solve(np.array(matrixl.tolist()).astype(np.float64), matrixb)\n",
    "matrixD = Matrix(matrixd)\n",
    "matrixD"
   ]
  },
  {
   "cell_type": "code",
   "execution_count": 631,
   "metadata": {},
   "outputs": [
    {
     "data": {
      "text/latex": [
       "$\\displaystyle \\left[\\begin{matrix}4.0\\\\-1.0\\\\0.5\\end{matrix}\\right]$"
      ],
      "text/plain": [
       "Matrix([\n",
       "[ 4.0],\n",
       "[-1.0],\n",
       "[ 0.5]])"
      ]
     },
     "execution_count": 631,
     "metadata": {},
     "output_type": "execute_result"
    }
   ],
   "source": [
    "Matrix(ans)"
   ]
  },
  {
   "cell_type": "markdown",
   "metadata": {},
   "source": [
    "Manual Decomposition"
   ]
  },
  {
   "cell_type": "code",
   "execution_count": null,
   "metadata": {},
   "outputs": [],
   "source": []
  },
  {
   "cell_type": "code",
   "execution_count": 634,
   "metadata": {},
   "outputs": [],
   "source": [
    "# Finding U\n",
    "def uDecompost(matrixa):\n",
    "    matrixa0 = matrixa.row(0)\n",
    "    \n",
    "    if (np.array(matrixa.row(0).col(0).tolist()).astype(np.float64) == 0):\n",
    "        matrixa1 = matrixa.row(1)\n",
    "        matrixa2 = matrixa.row(2)\n",
    "        l1 = Matrix([0])\n",
    "        l2 = Matrix([0])\n",
    "    else:\n",
    "        matrixa1 = matrixa.row(1) - matrixa.row(1).col(0)/matrixa.row(0).col(0)*matrixa.row(0)\n",
    "        matrixa2 =matrixa.row(2) - matrixa.row(2).col(0)/matrixa.row(0).col(0)*matrixa.row(0)\n",
    "        l1 = Matrix(matrixa.row(1).col(0)/matrixa.row(0).col(0))\n",
    "        l2 = Matrix(matrixa.row(2).col(0)/matrixa.row(0).col(0))\n",
    "    matrixb = Matrix((matrixa0,matrixa1, matrixa2))\n",
    "    matrixb0 = matrixb.row(0)\n",
    "    matrixb1 = matrixb.row(1)\n",
    "    print(matrixb)\n",
    "    \n",
    "    \n",
    "    matrixb2 = matrixb.row(2) - matrixb.row(2).col(1)/matrixb.row(1).col(1)*matrixb.row(1)\n",
    "    matrixl = Matrix((matrixb0,matrixb1, matrixb2))\n",
    "    l3 = matrixb.row(2).col(1)/matrixb.row(1).col(1)\n",
    "    return matrixl, l1.tolist(),l2.tolist(),l3.tolist()"
   ]
  },
  {
   "cell_type": "code",
   "execution_count": 635,
   "metadata": {},
   "outputs": [
    {
     "name": "stdout",
     "output_type": "stream",
     "text": [
      "Matrix([[3, 5, 2], [0, 8, 2], [0, -8, 4]])\n"
     ]
    },
    {
     "data": {
      "text/latex": [
       "$\\displaystyle \\left[\\begin{matrix}3 & 5 & 2\\\\0 & 8 & 2\\\\0 & 0 & 6\\end{matrix}\\right]$"
      ],
      "text/plain": [
       "Matrix([\n",
       "[3, 5, 2],\n",
       "[0, 8, 2],\n",
       "[0, 0, 6]])"
      ]
     },
     "execution_count": 635,
     "metadata": {},
     "output_type": "execute_result"
    }
   ],
   "source": [
    "matrixu, l1,l2,l3 = uDecompost(matrixA)\n",
    "matrixu"
   ]
  },
  {
   "cell_type": "code",
   "execution_count": 623,
   "metadata": {},
   "outputs": [],
   "source": [
    "def lDecompost(l1,l2,l3):\n",
    "    matrixu = np.identity(3)\n",
    "    matrixu[1][0] = l1[0][0]\n",
    "    matrixu[2][0] = l2[0][0]\n",
    "    matrixu[2][1] = l3[0][0]\n",
    "    return Matrix(matrixu)"
   ]
  },
  {
   "cell_type": "code",
   "execution_count": 624,
   "metadata": {},
   "outputs": [
    {
     "data": {
      "text/latex": [
       "$\\displaystyle \\left[\\begin{matrix}1.0 & 0.0 & 0.0\\\\0.0 & 1.0 & 0.0\\\\2.0 & -1.0 & 1.0\\end{matrix}\\right]$"
      ],
      "text/plain": [
       "Matrix([\n",
       "[1.0,  0.0, 0.0],\n",
       "[0.0,  1.0, 0.0],\n",
       "[2.0, -1.0, 1.0]])"
      ]
     },
     "execution_count": 624,
     "metadata": {},
     "output_type": "execute_result"
    }
   ],
   "source": [
    "matrixl = lDecompost(l1,l2,l3)\n",
    "matrixl"
   ]
  },
  {
   "cell_type": "code",
   "execution_count": 629,
   "metadata": {},
   "outputs": [
    {
     "data": {
      "text/latex": [
       "$\\displaystyle \\left[\\begin{matrix}8.0\\\\-7.0\\\\3.0\\end{matrix}\\right]$"
      ],
      "text/plain": [
       "Matrix([\n",
       "[ 8.0],\n",
       "[-7.0],\n",
       "[ 3.0]])"
      ]
     },
     "execution_count": 629,
     "metadata": {},
     "output_type": "execute_result"
    }
   ],
   "source": [
    "matrixd = linalg.solve(np.array(matrixl.tolist()).astype(np.float64), matrixb)\n",
    "matrixD = Matrix(matrixd)\n",
    "matrixD"
   ]
  },
  {
   "cell_type": "code",
   "execution_count": 611,
   "metadata": {},
   "outputs": [],
   "source": [
    "# UX = D\n",
    "ans= linalg.solve(np.array(matrixu.tolist()).astype(np.float64), matrixd)"
   ]
  },
  {
   "cell_type": "code",
   "execution_count": 612,
   "metadata": {},
   "outputs": [
    {
     "data": {
      "text/latex": [
       "$\\displaystyle \\left[\\begin{matrix}4.0\\\\-1.0\\\\0.5\\end{matrix}\\right]$"
      ],
      "text/plain": [
       "Matrix([\n",
       "[ 4.0],\n",
       "[-1.0],\n",
       "[ 0.5]])"
      ]
     },
     "execution_count": 612,
     "metadata": {},
     "output_type": "execute_result"
    }
   ],
   "source": [
    "Matrix(ans)"
   ]
  },
  {
   "cell_type": "code",
   "execution_count": null,
   "metadata": {},
   "outputs": [],
   "source": []
  },
  {
   "cell_type": "code",
   "execution_count": null,
   "metadata": {},
   "outputs": [],
   "source": []
  }
 ],
 "metadata": {
  "kernelspec": {
   "display_name": "Python 3",
   "language": "python",
   "name": "python3"
  },
  "language_info": {
   "codemirror_mode": {
    "name": "ipython",
    "version": 3
   },
   "file_extension": ".py",
   "mimetype": "text/x-python",
   "name": "python",
   "nbconvert_exporter": "python",
   "pygments_lexer": "ipython3",
   "version": "3.7.4"
  }
 },
 "nbformat": 4,
 "nbformat_minor": 2
}
